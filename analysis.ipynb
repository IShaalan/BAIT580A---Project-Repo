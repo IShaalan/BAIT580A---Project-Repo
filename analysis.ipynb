{
 "cells": [
  {
   "cell_type": "markdown",
   "metadata": {},
   "source": [
    "## Data Analysis"
   ]
  },
  {
   "cell_type": "code",
   "execution_count": 1,
   "metadata": {},
   "outputs": [
    {
     "data": {
      "text/plain": [
       "DataTransformerRegistry.enable('default')"
      ]
     },
     "execution_count": 1,
     "metadata": {},
     "output_type": "execute_result"
    }
   ],
   "source": [
    "import os\n",
    "import dotenv\n",
    "\n",
    "dotenv.load_dotenv()\n",
    "DB_HOST = os.getenv('GP_DB_HOST')\n",
    "DB_PORT = os.getenv('GP_DB_PORT')\n",
    "DB_USER = os.getenv('GP_DB_USER')\n",
    "DB_PASS = os.getenv('GP_DB_PASS')\n",
    "DB_NAME = os.getenv('GP_DB_NAME')\n",
    "\n",
    "DB_HOST = \"groupseven.c7uho3baxiu8.us-west-2.rds.amazonaws.com\"\n",
    "DB_NAME = \"groupseven\"\n",
    "DB_USER = \"seven\"\n",
    "DB_PASS = \"BAIT580SQL\"\n",
    "DB_PORT = \"5432\"\n",
    "\n",
    "conString = {'host':DB_HOST,\n",
    "             'user':DB_USER,\n",
    "             'dbname':DB_NAME,\n",
    "             'password':DB_PASS,\n",
    "             'port':DB_PORT}\n",
    "\n",
    "# Data manipulation\n",
    "import pandas as pd\n",
    "import missingno as msno\n",
    "\n",
    "import numpy as np\n",
    "import psycopg2\n",
    "\n",
    "# Options for pandas\n",
    "pd.options.display.max_columns = 50\n",
    "pd.options.display.max_rows = 30\n",
    "\n",
    "# Visualizations\n",
    "import altair as alt\n",
    "import matplotlib as plt\n",
    "alt.data_transformers.disable_max_rows()  # disable error for big datasets"
   ]
  },
  {
   "cell_type": "code",
   "execution_count": 30,
   "metadata": {},
   "outputs": [
    {
     "data": {
      "text/html": [
       "<div>\n",
       "<style scoped>\n",
       "    .dataframe tbody tr th:only-of-type {\n",
       "        vertical-align: middle;\n",
       "    }\n",
       "\n",
       "    .dataframe tbody tr th {\n",
       "        vertical-align: top;\n",
       "    }\n",
       "\n",
       "    .dataframe thead th {\n",
       "        text-align: right;\n",
       "    }\n",
       "</style>\n",
       "<table border=\"1\" class=\"dataframe\">\n",
       "  <thead>\n",
       "    <tr style=\"text-align: right;\">\n",
       "      <th></th>\n",
       "      <th>Country</th>\n",
       "      <th>AVGScore</th>\n",
       "    </tr>\n",
       "  </thead>\n",
       "  <tbody>\n",
       "    <tr>\n",
       "      <th>40</th>\n",
       "      <td>Albania</td>\n",
       "      <td>494.0</td>\n",
       "    </tr>\n",
       "    <tr>\n",
       "      <th>41</th>\n",
       "      <td>New Zealand</td>\n",
       "      <td>487.0</td>\n",
       "    </tr>\n",
       "    <tr>\n",
       "      <th>42</th>\n",
       "      <td>France</td>\n",
       "      <td>485.0</td>\n",
       "    </tr>\n",
       "    <tr>\n",
       "      <th>43</th>\n",
       "      <td>Georgia</td>\n",
       "      <td>482.0</td>\n",
       "    </tr>\n",
       "    <tr>\n",
       "      <th>44</th>\n",
       "      <td>United Arab Emirates</td>\n",
       "      <td>481.0</td>\n",
       "    </tr>\n",
       "    <tr>\n",
       "      <th>45</th>\n",
       "      <td>Bahrain</td>\n",
       "      <td>480.0</td>\n",
       "    </tr>\n",
       "    <tr>\n",
       "      <th>46</th>\n",
       "      <td>North Macedonia</td>\n",
       "      <td>472.0</td>\n",
       "    </tr>\n",
       "    <tr>\n",
       "      <th>47</th>\n",
       "      <td>Montenegro</td>\n",
       "      <td>453.0</td>\n",
       "    </tr>\n",
       "    <tr>\n",
       "      <th>48</th>\n",
       "      <td>Bosnia and Herzegovina</td>\n",
       "      <td>452.0</td>\n",
       "    </tr>\n",
       "    <tr>\n",
       "      <th>49</th>\n",
       "      <td>Qatar</td>\n",
       "      <td>449.0</td>\n",
       "    </tr>\n",
       "    <tr>\n",
       "      <th>50</th>\n",
       "      <td>Kosovo</td>\n",
       "      <td>444.0</td>\n",
       "    </tr>\n",
       "    <tr>\n",
       "      <th>51</th>\n",
       "      <td>Iran, Islamic Rep. of</td>\n",
       "      <td>443.0</td>\n",
       "    </tr>\n",
       "    <tr>\n",
       "      <th>52</th>\n",
       "      <td>Chile</td>\n",
       "      <td>441.0</td>\n",
       "    </tr>\n",
       "    <tr>\n",
       "      <th>53</th>\n",
       "      <td>Oman</td>\n",
       "      <td>431.0</td>\n",
       "    </tr>\n",
       "    <tr>\n",
       "      <th>54</th>\n",
       "      <td>Saudi Arabia</td>\n",
       "      <td>398.0</td>\n",
       "    </tr>\n",
       "    <tr>\n",
       "      <th>55</th>\n",
       "      <td>Morocco</td>\n",
       "      <td>383.0</td>\n",
       "    </tr>\n",
       "    <tr>\n",
       "      <th>56</th>\n",
       "      <td>Kuwait</td>\n",
       "      <td>383.0</td>\n",
       "    </tr>\n",
       "    <tr>\n",
       "      <th>57</th>\n",
       "      <td>South Africa (5)</td>\n",
       "      <td>374.0</td>\n",
       "    </tr>\n",
       "    <tr>\n",
       "      <th>58</th>\n",
       "      <td>Pakistan</td>\n",
       "      <td>328.0</td>\n",
       "    </tr>\n",
       "    <tr>\n",
       "      <th>59</th>\n",
       "      <td>Philippines</td>\n",
       "      <td>297.0</td>\n",
       "    </tr>\n",
       "  </tbody>\n",
       "</table>\n",
       "</div>"
      ],
      "text/plain": [
       "                   Country  AVGScore\n",
       "40                 Albania     494.0\n",
       "41             New Zealand     487.0\n",
       "42                  France     485.0\n",
       "43                 Georgia     482.0\n",
       "44    United Arab Emirates     481.0\n",
       "45                 Bahrain     480.0\n",
       "46         North Macedonia     472.0\n",
       "47              Montenegro     453.0\n",
       "48  Bosnia and Herzegovina     452.0\n",
       "49                   Qatar     449.0\n",
       "50                  Kosovo     444.0\n",
       "51   Iran, Islamic Rep. of     443.0\n",
       "52                   Chile     441.0\n",
       "53                    Oman     431.0\n",
       "54            Saudi Arabia     398.0\n",
       "55                 Morocco     383.0\n",
       "56                  Kuwait     383.0\n",
       "57        South Africa (5)     374.0\n",
       "58                Pakistan     328.0\n",
       "59             Philippines     297.0"
      ]
     },
     "execution_count": 30,
     "metadata": {},
     "output_type": "execute_result"
    }
   ],
   "source": [
    "d = pd.read_excel('data/TIMMS2019/1-1_achievement-results-M4.xlsx',header=4)\n",
    "x = d[['Country','Average \\nScale Score']].iloc[0:60,:]\n",
    "x.columns = ['Country','AVGScore']\n",
    "x.tail(20)"
   ]
  },
  {
   "cell_type": "markdown",
   "metadata": {},
   "source": [
    "Establishing Connection"
   ]
  },
  {
   "cell_type": "code",
   "execution_count": null,
   "metadata": {},
   "outputs": [],
   "source": [
    "conn = psycopg2.connect(**conString)\n",
    "cur = conn.cursor()"
   ]
  },
  {
   "cell_type": "code",
   "execution_count": null,
   "metadata": {},
   "outputs": [],
   "source": [
    "cur.execute(\"\"\"SELECT * FROM edx.wrld_bnk_indc\"\"\")\n",
    "res = cur.fetchall()\n",
    "\n",
    "df = pd.DataFrame(res)"
   ]
  },
  {
   "cell_type": "code",
   "execution_count": null,
   "metadata": {},
   "outputs": [],
   "source": [
    "df.columns=['country_name','country_code','year','edu_pcnt_scnd_bud','sch_enr_sec','edu_pcnt_prim_bud','edu_pcnt_gdp_pstudcapita_scnd','edu_pcnt_gdp_pstudcapita_prim',\n",
    "             'edu_pcnt_ter_bud','edu_pcnt_bud','sch_enr_pri','edu_pcnt_gdp_pstud_capita_ter','edu_pcnt_gdp']\n",
    "\n",
    "df"
   ]
  },
  {
   "cell_type": "code",
   "execution_count": null,
   "metadata": {},
   "outputs": [],
   "source": [
    "msno.matrix(df)"
   ]
  },
  {
   "cell_type": "code",
   "execution_count": null,
   "metadata": {},
   "outputs": [],
   "source": [
    "import klib"
   ]
  },
  {
   "cell_type": "markdown",
   "metadata": {},
   "source": [
    "Closing Connection"
   ]
  },
  {
   "cell_type": "code",
   "execution_count": null,
   "metadata": {},
   "outputs": [],
   "source": [
    "conn.close()"
   ]
  }
 ],
 "metadata": {
  "interpreter": {
   "hash": "093eab89ae9eef50f6b618021bd6801c29ac2779d3b86c3950776c321a6e7de7"
  },
  "kernelspec": {
   "display_name": "Python 3.9.7 ('MBAN')",
   "language": "python",
   "name": "python3"
  },
  "language_info": {
   "codemirror_mode": {
    "name": "ipython",
    "version": 3
   },
   "file_extension": ".py",
   "mimetype": "text/x-python",
   "name": "python",
   "nbconvert_exporter": "python",
   "pygments_lexer": "ipython3",
   "version": "3.9.7"
  },
  "orig_nbformat": 4
 },
 "nbformat": 4,
 "nbformat_minor": 2
}

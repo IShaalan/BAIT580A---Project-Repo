{
 "cells": [
  {
   "cell_type": "markdown",
   "metadata": {},
   "source": [
    "## Data Analysis"
   ]
  },
  {
   "cell_type": "code",
   "execution_count": 1,
   "metadata": {},
   "outputs": [
    {
     "data": {
      "text/plain": [
       "DataTransformerRegistry.enable('default')"
      ]
     },
     "execution_count": 1,
     "metadata": {},
     "output_type": "execute_result"
    }
   ],
   "source": [
    "import os\n",
    "import dotenv\n",
    "\n",
    "dotenv.load_dotenv()\n",
    "DB_HOST = os.getenv('GP_DB_HOST')\n",
    "DB_PORT = os.getenv('GP_DB_PORT')\n",
    "DB_USER = os.getenv('GP_DB_USER')\n",
    "DB_PASS = os.getenv('GP_DB_PASS')\n",
    "DB_NAME = os.getenv('GP_DB_NAME')\n",
    "\n",
    "# DB_HOST = \"groupseven.c7uho3baxiu8.us-west-2.rds.amazonaws.com\"\n",
    "# DB_NAME = \"groupseven\"\n",
    "# DB_USER = \"seven\"\n",
    "# DB_PASS = \"BAIT580SQL\"\n",
    "# DB_PORT = \"5432\"\n",
    "\n",
    "conString = {'host':DB_HOST,\n",
    "             'user':DB_USER,\n",
    "             'dbname':DB_NAME,\n",
    "             'password':DB_PASS,\n",
    "             'port':DB_PORT}\n",
    "\n",
    "# Data manipulation\n",
    "import pandas as pd\n",
    "import klib\n",
    "\n",
    "import numpy as np\n",
    "import psycopg2\n",
    "\n",
    "# Options for pandas\n",
    "pd.options.display.max_columns = 50\n",
    "pd.options.display.max_rows = 30\n",
    "\n",
    "# Visualizations\n",
    "import altair as alt\n",
    "import matplotlib.pyplot as plt\n",
    "alt.data_transformers.disable_max_rows()  # disable error for big datasets"
   ]
  },
  {
   "cell_type": "markdown",
   "metadata": {},
   "source": [
    "Establishing Connection"
   ]
  },
  {
   "cell_type": "code",
   "execution_count": 2,
   "metadata": {},
   "outputs": [],
   "source": [
    "conn = psycopg2.connect(**conString)\n",
    "cur = conn.cursor()"
   ]
  },
  {
   "cell_type": "markdown",
   "metadata": {},
   "source": [
    "Assigning Selected Countries"
   ]
  },
  {
   "cell_type": "code",
   "execution_count": 3,
   "metadata": {},
   "outputs": [],
   "source": [
    "selected_countries = ['SGP','ESP','CHL','QAT','NZL','CHN','BGR','MEX','BRA','JOR','ZAF','SLV','IND','UKR','KEN','RWA','MLI','SEN', 'NPL','UZB']\n",
    "\n",
    "selected_countries_str = \"'SGP','ESP','CHL','QAT','NZL','CHN','BGR','MEX','BRA','JOR','ZAF','SLV','IND','UKR','KEN','RWA','MLI','SEN', 'NPL','UZB'\""
   ]
  },
  {
   "cell_type": "markdown",
   "metadata": {},
   "source": [
    "Getting the data from 2009 to 2018"
   ]
  },
  {
   "cell_type": "code",
   "execution_count": 4,
   "metadata": {},
   "outputs": [],
   "source": [
    "query = f'''SELECT ct.country_name, ei.country_code, ei.year, ei.val_qual_ed, hc.edu_pcnt_bud, hc.edu_pcnt_gdp, hc.hdi, hc.gdp_us, hc.gdp_growth,income_grp, region\n",
    "FROM edx.education_indicators AS ei INNER JOIN edx.human_capital AS hc ON ei.year = hc.year AND ei.country_code = hc.country_code\n",
    "\tINNER JOIN edx.country AS ct ON ct.country_code = ei.country_code\n",
    "WHERE ei.year BETWEEN 2009 AND 2018 AND ct.country_code in ({selected_countries_str}) \n",
    "ORDER BY ei.year DESC, ei.country_code'''\n",
    "\n",
    "cur.execute(query= query)\n",
    "edu_indicators = pd.DataFrame(cur.fetchall())\n",
    "edu_indicators.columns = ['country_name', 'country_code' ,'year', 'val_qual_ed','edu_pcnt_gdp', 'edu_pcnt_bud','hdi','gdp_growth','gdp_us','income_grp','region']"
   ]
  },
  {
   "cell_type": "markdown",
   "metadata": {},
   "source": [
    "Looking at the data"
   ]
  },
  {
   "cell_type": "code",
   "execution_count": 5,
   "metadata": {},
   "outputs": [
    {
     "data": {
      "text/html": [
       "<div>\n",
       "<style scoped>\n",
       "    .dataframe tbody tr th:only-of-type {\n",
       "        vertical-align: middle;\n",
       "    }\n",
       "\n",
       "    .dataframe tbody tr th {\n",
       "        vertical-align: top;\n",
       "    }\n",
       "\n",
       "    .dataframe thead th {\n",
       "        text-align: right;\n",
       "    }\n",
       "</style>\n",
       "<table border=\"1\" class=\"dataframe\">\n",
       "  <thead>\n",
       "    <tr style=\"text-align: right;\">\n",
       "      <th></th>\n",
       "      <th>country_name</th>\n",
       "      <th>country_code</th>\n",
       "      <th>year</th>\n",
       "      <th>val_qual_ed</th>\n",
       "      <th>edu_pcnt_gdp</th>\n",
       "      <th>edu_pcnt_bud</th>\n",
       "      <th>hdi</th>\n",
       "      <th>gdp_growth</th>\n",
       "      <th>gdp_us</th>\n",
       "      <th>income_grp</th>\n",
       "      <th>region</th>\n",
       "    </tr>\n",
       "  </thead>\n",
       "  <tbody>\n",
       "    <tr>\n",
       "      <th>0</th>\n",
       "      <td>Republic of Bulgaria</td>\n",
       "      <td>BGR</td>\n",
       "      <td>2018</td>\n",
       "      <td>NaN</td>\n",
       "      <td>NaN</td>\n",
       "      <td>NaN</td>\n",
       "      <td>0.813</td>\n",
       "      <td>6.636342e+10</td>\n",
       "      <td>2.684576</td>\n",
       "      <td>Upper middle income</td>\n",
       "      <td>Europe &amp; Central Asia</td>\n",
       "    </tr>\n",
       "    <tr>\n",
       "      <th>1</th>\n",
       "      <td>Federative Republic of Brazil</td>\n",
       "      <td>BRA</td>\n",
       "      <td>2018</td>\n",
       "      <td>NaN</td>\n",
       "      <td>16.148359</td>\n",
       "      <td>6.08851</td>\n",
       "      <td>0.762</td>\n",
       "      <td>1.916930e+12</td>\n",
       "      <td>1.783667</td>\n",
       "      <td>Upper middle income</td>\n",
       "      <td>Latin America &amp; Caribbean</td>\n",
       "    </tr>\n",
       "    <tr>\n",
       "      <th>2</th>\n",
       "      <td>Republic of Chile</td>\n",
       "      <td>CHL</td>\n",
       "      <td>2018</td>\n",
       "      <td>NaN</td>\n",
       "      <td>21.379530</td>\n",
       "      <td>5.43317</td>\n",
       "      <td>0.849</td>\n",
       "      <td>2.975720e+11</td>\n",
       "      <td>3.713859</td>\n",
       "      <td>High income</td>\n",
       "      <td>Latin America &amp; Caribbean</td>\n",
       "    </tr>\n",
       "    <tr>\n",
       "      <th>3</th>\n",
       "      <td>People's Republic of China</td>\n",
       "      <td>CHN</td>\n",
       "      <td>2018</td>\n",
       "      <td>NaN</td>\n",
       "      <td>11.450690</td>\n",
       "      <td>3.54249</td>\n",
       "      <td>0.755</td>\n",
       "      <td>1.389480e+13</td>\n",
       "      <td>6.749774</td>\n",
       "      <td>Upper middle income</td>\n",
       "      <td>East Asia &amp; Pacific</td>\n",
       "    </tr>\n",
       "    <tr>\n",
       "      <th>4</th>\n",
       "      <td>Kingdom of Spain</td>\n",
       "      <td>ESP</td>\n",
       "      <td>2018</td>\n",
       "      <td>NaN</td>\n",
       "      <td>10.030330</td>\n",
       "      <td>4.17816</td>\n",
       "      <td>0.905</td>\n",
       "      <td>1.420300e+12</td>\n",
       "      <td>2.288786</td>\n",
       "      <td>High income</td>\n",
       "      <td>Europe &amp; Central Asia</td>\n",
       "    </tr>\n",
       "  </tbody>\n",
       "</table>\n",
       "</div>"
      ],
      "text/plain": [
       "                    country_name country_code  year  val_qual_ed  \\\n",
       "0           Republic of Bulgaria          BGR  2018          NaN   \n",
       "1  Federative Republic of Brazil          BRA  2018          NaN   \n",
       "2              Republic of Chile          CHL  2018          NaN   \n",
       "3     People's Republic of China          CHN  2018          NaN   \n",
       "4               Kingdom of Spain          ESP  2018          NaN   \n",
       "\n",
       "   edu_pcnt_gdp  edu_pcnt_bud    hdi    gdp_growth    gdp_us  \\\n",
       "0           NaN           NaN  0.813  6.636342e+10  2.684576   \n",
       "1     16.148359       6.08851  0.762  1.916930e+12  1.783667   \n",
       "2     21.379530       5.43317  0.849  2.975720e+11  3.713859   \n",
       "3     11.450690       3.54249  0.755  1.389480e+13  6.749774   \n",
       "4     10.030330       4.17816  0.905  1.420300e+12  2.288786   \n",
       "\n",
       "            income_grp                     region  \n",
       "0  Upper middle income      Europe & Central Asia  \n",
       "1  Upper middle income  Latin America & Caribbean  \n",
       "2          High income  Latin America & Caribbean  \n",
       "3  Upper middle income        East Asia & Pacific  \n",
       "4          High income      Europe & Central Asia  "
      ]
     },
     "execution_count": 5,
     "metadata": {},
     "output_type": "execute_result"
    }
   ],
   "source": [
    "edu_indicators.head()"
   ]
  },
  {
   "cell_type": "markdown",
   "metadata": {},
   "source": [
    "What does the data has"
   ]
  },
  {
   "cell_type": "code",
   "execution_count": 6,
   "metadata": {},
   "outputs": [
    {
     "name": "stdout",
     "output_type": "stream",
     "text": [
      "<class 'pandas.core.frame.DataFrame'>\n",
      "RangeIndex: 200 entries, 0 to 199\n",
      "Data columns (total 11 columns):\n",
      " #   Column        Non-Null Count  Dtype  \n",
      "---  ------        --------------  -----  \n",
      " 0   country_name  200 non-null    object \n",
      " 1   country_code  200 non-null    object \n",
      " 2   year          200 non-null    int64  \n",
      " 3   val_qual_ed   170 non-null    float64\n",
      " 4   edu_pcnt_gdp  173 non-null    float64\n",
      " 5   edu_pcnt_bud  181 non-null    float64\n",
      " 6   hdi           200 non-null    float64\n",
      " 7   gdp_growth    200 non-null    float64\n",
      " 8   gdp_us        200 non-null    float64\n",
      " 9   income_grp    200 non-null    object \n",
      " 10  region        200 non-null    object \n",
      "dtypes: float64(6), int64(1), object(4)\n",
      "memory usage: 17.3+ KB\n"
     ]
    }
   ],
   "source": [
    "edu_indicators.info()"
   ]
  },
  {
   "cell_type": "markdown",
   "metadata": {},
   "source": [
    "Visualize missing data in our overall dataset"
   ]
  },
  {
   "cell_type": "code",
   "execution_count": 7,
   "metadata": {},
   "outputs": [
    {
     "data": {
      "text/plain": [
       "GridSpec(6, 6)"
      ]
     },
     "execution_count": 7,
     "metadata": {},
     "output_type": "execute_result"
    },
    {
     "data": {
      "image/png": "[encoded data removed]",
      "text/plain": [
       "<Figure size 1440x1440 with 4 Axes>"
      ]
     },
     "metadata": {
      "needs_background": "light"
     },
     "output_type": "display_data"
    }
   ],
   "source": [
    "klib.missingval_plot(edu_indicators)"
   ]
  },
  {
   "cell_type": "markdown",
   "metadata": {},
   "source": [
    "Build the cross sectional slice that we are interested in"
   ]
  },
  {
   "cell_type": "code",
   "execution_count": 8,
   "metadata": {},
   "outputs": [],
   "source": [
    "edu_indicators_2017 = edu_indicators[edu_indicators['year']==2017]"
   ]
  },
  {
   "cell_type": "markdown",
   "metadata": {},
   "source": [
    "Visualize the missing data in 2017 dataset"
   ]
  },
  {
   "cell_type": "code",
   "execution_count": 9,
   "metadata": {},
   "outputs": [
    {
     "data": {
      "text/plain": [
       "GridSpec(6, 6)"
      ]
     },
     "execution_count": 9,
     "metadata": {},
     "output_type": "execute_result"
    },
    {
     "data": {
      "image/png": "[encoded data removed]",
      "text/plain": [
       "<Figure size 1440x1440 with 4 Axes>"
      ]
     },
     "metadata": {
      "needs_background": "light"
     },
     "output_type": "display_data"
    }
   ],
   "source": [
    "klib.missingval_plot(edu_indicators_2017)"
   ]
  },
  {
   "cell_type": "markdown",
   "metadata": {},
   "source": [
    "### HERE WE SHOULD IMPUTE"
   ]
  },
  {
   "cell_type": "markdown",
   "metadata": {},
   "source": [
    "### Visualize our selected Countries"
   ]
  },
  {
   "cell_type": "code",
   "execution_count": 10,
   "metadata": {},
   "outputs": [
    {
     "data": {
      "image/png": "[encoded data removed]",
      "text/plain": [
       "<Figure size 1080x216 with 2 Axes>"
      ]
     },
     "metadata": {
      "needs_background": "light"
     },
     "output_type": "display_data"
    }
   ],
   "source": [
    "fig, ax = plt.subplots(1,2, figsize = (15,3), sharex=False, sharey=True)\n",
    "ax[0].hist(edu_indicators_2017['income_grp'])\n",
    "ax[1].hist(edu_indicators_2017['region'])\n",
    "plt.xticks(rotation=45)\n",
    "plt.show()\n"
   ]
  },
  {
   "cell_type": "code",
   "execution_count": 11,
   "metadata": {},
   "outputs": [
    {
     "data": {
      "application/vnd.plotly.v1+json": {
       "config": {
        "plotlyServerURL": "https://plot.ly"
       },
       "data": [
        {
         "colorscale": [
          [
           0,
           "Green"
          ],
          [
           1,
           "Green"
          ]
         ],
         "geo": "geo",
         "hovertemplate": "color=Upper middle income<br>locations=%{location}<extra></extra>",
         "locationmode": "ISO-3",
         "locations": [
          "BGR",
          "BRA",
          "CHN",
          "JOR",
          "MEX",
          "ZAF"
         ],
         "name": "Upper middle income",
         "showlegend": true,
         "showscale": false,
         "type": "choropleth",
         "z": [
          1,
          1,
          1,
          1,
          1,
          1
         ]
        },
        {
         "colorscale": [
          [
           0,
           "Blue"
          ],
          [
           1,
           "Blue"
          ]
         ],
         "geo": "geo",
         "hovertemplate": "color=High income<br>locations=%{location}<extra></extra>",
         "locationmode": "ISO-3",
         "locations": [
          "CHL",
          "ESP",
          "NZL",
          "QAT",
          "SGP"
         ],
         "name": "High income",
         "showlegend": true,
         "showscale": false,
         "type": "choropleth",
         "z": [
          1,
          1,
          1,
          1,
          1
         ]
        },
        {
         "colorscale": [
          [
           0,
           "Orange"
          ],
          [
           1,
           "Orange"
          ]
         ],
         "geo": "geo",
         "hovertemplate": "color=Lower middle income<br>locations=%{location}<extra></extra>",
         "locationmode": "ISO-3",
         "locations": [
          "IND",
          "KEN",
          "NPL",
          "SEN",
          "SLV",
          "UKR",
          "UZB"
         ],
         "name": "Lower middle income",
         "showlegend": true,
         "showscale": false,
         "type": "choropleth",
         "z": [
          1,
          1,
          1,
          1,
          1,
          1,
          1
         ]
        },
        {
         "colorscale": [
          [
           0,
           "Red"
          ],
          [
           1,
           "Red"
          ]
         ],
         "geo": "geo",
         "hovertemplate": "color=Low income<br>locations=%{location}<extra></extra>",
         "locationmode": "ISO-3",
         "locations": [
          "MLI",
          "RWA"
         ],
         "name": "Low income",
         "showlegend": true,
         "showscale": false,
         "type": "choropleth",
         "z": [
          1,
          1
         ]
        }
       ],
       "layout": {
        "geo": {
         "center": {},
         "domain": {
          "x": [
           0,
           1
          ],
          "y": [
           0,
           1
          ]
         },
         "scope": "world"
        },
        "legend": {
         "title": {
          "text": "color"
         },
         "tracegroupgap": 0
        },
        "margin": {
         "t": 60
        },
        "template": {
         "data": {
          "bar": [
           {
            "error_x": {
             "color": "#2a3f5f"
            },
            "error_y": {
             "color": "#2a3f5f"
            },
            "marker": {
             "line": {
              "color": "#E5ECF6",
              "width": 0.5
             },
             "pattern": {
              "fillmode": "overlay",
              "size": 10,
              "solidity": 0.2
             }
            },
            "type": "bar"
           }
          ],
          "barpolar": [
           {
            "marker": {
             "line": {
              "color": "#E5ECF6",
              "width": 0.5
             },
             "pattern": {
              "fillmode": "overlay",
              "size": 10,
              "solidity": 0.2
             }
            },
            "type": "barpolar"
           }
          ],
          "carpet": [
           {
            "aaxis": {
             "endlinecolor": "#2a3f5f",
             "gridcolor": "white",
             "linecolor": "white",
             "minorgridcolor": "white",
             "startlinecolor": "#2a3f5f"
            },
            "baxis": {
             "endlinecolor": "#2a3f5f",
             "gridcolor": "white",
             "linecolor": "white",
             "minorgridcolor": "white",
             "startlinecolor": "#2a3f5f"
            },
            "type": "carpet"
           }
          ],
          "choropleth": [
           {
            "colorbar": {
             "outlinewidth": 0,
             "ticks": ""
            },
            "type": "choropleth"
           }
          ],
          "contour": [
           {
            "colorbar": {
             "outlinewidth": 0,
             "ticks": ""
            },
            "colorscale": [
             [
              0,
              "#0d0887"
             ],
             [
              0.1111111111111111,
              "#46039f"
             ],
             [
              0.2222222222222222,
              "#7201a8"
             ],
             [
              0.3333333333333333,
              "#9c179e"
             ],
             [
              0.4444444444444444,
              "#bd3786"
             ],
             [
              0.5555555555555556,
              "#d8576b"
             ],
             [
              0.6666666666666666,
              "#ed7953"
             ],
             [
              0.7777777777777778,
              "#fb9f3a"
             ],
             [
              0.8888888888888888,
              "#fdca26"
             ],
             [
              1,
              "#f0f921"
             ]
            ],
            "type": "contour"
           }
          ],
          "contourcarpet": [
           {
            "colorbar": {
             "outlinewidth": 0,
             "ticks": ""
            },
            "type": "contourcarpet"
           }
          ],
          "heatmap": [
           {
            "colorbar": {
             "outlinewidth": 0,
             "ticks": ""
            },
            "colorscale": [
             [
              0,
              "#0d0887"
             ],
             [
              0.1111111111111111,
              "#46039f"
             ],
             [
              0.2222222222222222,
              "#7201a8"
             ],
             [
              0.3333333333333333,
              "#9c179e"
             ],
             [
              0.4444444444444444,
              "#bd3786"
             ],
             [
              0.5555555555555556,
              "#d8576b"
             ],
             [
              0.6666666666666666,
              "#ed7953"
             ],
             [
              0.7777777777777778,
              "#fb9f3a"
             ],
             [
              0.8888888888888888,
              "#fdca26"
             ],
             [
              1,
              "#f0f921"
             ]
            ],
            "type": "heatmap"
           }
          ],
          "heatmapgl": [
           {
            "colorbar": {
             "outlinewidth": 0,
             "ticks": ""
            },
            "colorscale": [
             [
              0,
              "#0d0887"
             ],
             [
              0.1111111111111111,
              "#46039f"
             ],
             [
              0.2222222222222222,
              "#7201a8"
             ],
             [
              0.3333333333333333,
              "#9c179e"
             ],
             [
              0.4444444444444444,
              "#bd3786"
             ],
             [
              0.5555555555555556,
              "#d8576b"
             ],
             [
              0.6666666666666666,
              "#ed7953"
             ],
             [
              0.7777777777777778,
              "#fb9f3a"
             ],
             [
              0.8888888888888888,
              "#fdca26"
             ],
             [
              1,
              "#f0f921"
             ]
            ],
            "type": "heatmapgl"
           }
          ],
          "histogram": [
           {
            "marker": {
             "pattern": {
              "fillmode": "overlay",
              "size": 10,
              "solidity": 0.2
             }
            },
            "type": "histogram"
           }
          ],
          "histogram2d": [
           {
            "colorbar": {
             "outlinewidth": 0,
             "ticks": ""
            },
            "colorscale": [
             [
              0,
              "#0d0887"
             ],
             [
              0.1111111111111111,
              "#46039f"
             ],
             [
              0.2222222222222222,
              "#7201a8"
             ],
             [
              0.3333333333333333,
              "#9c179e"
             ],
             [
              0.4444444444444444,
              "#bd3786"
             ],
             [
              0.5555555555555556,
              "#d8576b"
             ],
             [
              0.6666666666666666,
              "#ed7953"
             ],
             [
              0.7777777777777778,
              "#fb9f3a"
             ],
             [
              0.8888888888888888,
              "#fdca26"
             ],
             [
              1,
              "#f0f921"
             ]
            ],
            "type": "histogram2d"
           }
          ],
          "histogram2dcontour": [
           {
            "colorbar": {
             "outlinewidth": 0,
             "ticks": ""
            },
            "colorscale": [
             [
              0,
              "#0d0887"
             ],
             [
              0.1111111111111111,
              "#46039f"
             ],
             [
              0.2222222222222222,
              "#7201a8"
             ],
             [
              0.3333333333333333,
              "#9c179e"
             ],
             [
              0.4444444444444444,
              "#bd3786"
             ],
             [
              0.5555555555555556,
              "#d8576b"
             ],
             [
              0.6666666666666666,
              "#ed7953"
             ],
             [
              0.7777777777777778,
              "#fb9f3a"
             ],
             [
              0.8888888888888888,
              "#fdca26"
             ],
             [
              1,
              "#f0f921"
             ]
            ],
            "type": "histogram2dcontour"
           }
          ],
          "mesh3d": [
           {
            "colorbar": {
             "outlinewidth": 0,
             "ticks": ""
            },
            "type": "mesh3d"
           }
          ],
          "parcoords": [
           {
            "line": {
             "colorbar": {
              "outlinewidth": 0,
              "ticks": ""
             }
            },
            "type": "parcoords"
           }
          ],
          "pie": [
           {
            "automargin": true,
            "type": "pie"
           }
          ],
          "scatter": [
           {
            "marker": {
             "colorbar": {
              "outlinewidth": 0,
              "ticks": ""
             }
            },
            "type": "scatter"
           }
          ],
          "scatter3d": [
           {
            "line": {
             "colorbar": {
              "outlinewidth": 0,
              "ticks": ""
             }
            },
            "marker": {
             "colorbar": {
              "outlinewidth": 0,
              "ticks": ""
             }
            },
            "type": "scatter3d"
           }
          ],
          "scattercarpet": [
           {
            "marker": {
             "colorbar": {
              "outlinewidth": 0,
              "ticks": ""
             }
            },
            "type": "scattercarpet"
           }
          ],
          "scattergeo": [
           {
            "marker": {
             "colorbar": {
              "outlinewidth": 0,
              "ticks": ""
             }
            },
            "type": "scattergeo"
           }
          ],
          "scattergl": [
           {
            "marker": {
             "colorbar": {
              "outlinewidth": 0,
              "ticks": ""
             }
            },
            "type": "scattergl"
           }
          ],
          "scattermapbox": [
           {
            "marker": {
             "colorbar": {
              "outlinewidth": 0,
              "ticks": ""
             }
            },
            "type": "scattermapbox"
           }
          ],
          "scatterpolar": [
           {
            "marker": {
             "colorbar": {
              "outlinewidth": 0,
              "ticks": ""
             }
            },
            "type": "scatterpolar"
           }
          ],
          "scatterpolargl": [
           {
            "marker": {
             "colorbar": {
              "outlinewidth": 0,
              "ticks": ""
             }
            },
            "type": "scatterpolargl"
           }
          ],
          "scatterternary": [
           {
            "marker": {
             "colorbar": {
              "outlinewidth": 0,
              "ticks": ""
             }
            },
            "type": "scatterternary"
           }
          ],
          "surface": [
           {
            "colorbar": {
             "outlinewidth": 0,
             "ticks": ""
            },
            "colorscale": [
             [
              0,
              "#0d0887"
             ],
             [
              0.1111111111111111,
              "#46039f"
             ],
             [
              0.2222222222222222,
              "#7201a8"
             ],
             [
              0.3333333333333333,
              "#9c179e"
             ],
             [
              0.4444444444444444,
              "#bd3786"
             ],
             [
              0.5555555555555556,
              "#d8576b"
             ],
             [
              0.6666666666666666,
              "#ed7953"
             ],
             [
              0.7777777777777778,
              "#fb9f3a"
             ],
             [
              0.8888888888888888,
              "#fdca26"
             ],
             [
              1,
              "#f0f921"
             ]
            ],
            "type": "surface"
           }
          ],
          "table": [
           {
            "cells": {
             "fill": {
              "color": "#EBF0F8"
             },
             "line": {
              "color": "white"
             }
            },
            "header": {
             "fill": {
              "color": "#C8D4E3"
             },
             "line": {
              "color": "white"
             }
            },
            "type": "table"
           }
          ]
         },
         "layout": {
          "annotationdefaults": {
           "arrowcolor": "#2a3f5f",
           "arrowhead": 0,
           "arrowwidth": 1
          },
          "autotypenumbers": "strict",
          "coloraxis": {
           "colorbar": {
            "outlinewidth": 0,
            "ticks": ""
           }
          },
          "colorscale": {
           "diverging": [
            [
             0,
             "#8e0152"
            ],
            [
             0.1,
             "#c51b7d"
            ],
            [
             0.2,
             "#de77ae"
            ],
            [
             0.3,
             "#f1b6da"
            ],
            [
             0.4,
             "#fde0ef"
            ],
            [
             0.5,
             "#f7f7f7"
            ],
            [
             0.6,
             "#e6f5d0"
            ],
            [
             0.7,
             "#b8e186"
            ],
            [
             0.8,
             "#7fbc41"
            ],
            [
             0.9,
             "#4d9221"
            ],
            [
             1,
             "#276419"
            ]
           ],
           "sequential": [
            [
             0,
             "#0d0887"
            ],
            [
             0.1111111111111111,
             "#46039f"
            ],
            [
             0.2222222222222222,
             "#7201a8"
            ],
            [
             0.3333333333333333,
             "#9c179e"
            ],
            [
             0.4444444444444444,
             "#bd3786"
            ],
            [
             0.5555555555555556,
             "#d8576b"
            ],
            [
             0.6666666666666666,
             "#ed7953"
            ],
            [
             0.7777777777777778,
             "#fb9f3a"
            ],
            [
             0.8888888888888888,
             "#fdca26"
            ],
            [
             1,
             "#f0f921"
            ]
           ],
           "sequentialminus": [
            [
             0,
             "#0d0887"
            ],
            [
             0.1111111111111111,
             "#46039f"
            ],
            [
             0.2222222222222222,
             "#7201a8"
            ],
            [
             0.3333333333333333,
             "#9c179e"
            ],
            [
             0.4444444444444444,
             "#bd3786"
            ],
            [
             0.5555555555555556,
             "#d8576b"
            ],
            [
             0.6666666666666666,
             "#ed7953"
            ],
            [
             0.7777777777777778,
             "#fb9f3a"
            ],
            [
             0.8888888888888888,
             "#fdca26"
            ],
            [
             1,
             "#f0f921"
            ]
           ]
          },
          "colorway": [
           "#636efa",
           "#EF553B",
           "#00cc96",
           "#ab63fa",
           "#FFA15A",
           "#19d3f3",
           "#FF6692",
           "#B6E880",
           "#FF97FF",
           "#FECB52"
          ],
          "font": {
           "color": "#2a3f5f"
          },
          "geo": {
           "bgcolor": "white",
           "lakecolor": "white",
           "landcolor": "#E5ECF6",
           "showlakes": true,
           "showland": true,
           "subunitcolor": "white"
          },
          "hoverlabel": {
           "align": "left"
          },
          "hovermode": "closest",
          "mapbox": {
           "style": "light"
          },
          "paper_bgcolor": "white",
          "plot_bgcolor": "#E5ECF6",
          "polar": {
           "angularaxis": {
            "gridcolor": "white",
            "linecolor": "white",
            "ticks": ""
           },
           "bgcolor": "#E5ECF6",
           "radialaxis": {
            "gridcolor": "white",
            "linecolor": "white",
            "ticks": ""
           }
          },
          "scene": {
           "xaxis": {
            "backgroundcolor": "#E5ECF6",
            "gridcolor": "white",
            "gridwidth": 2,
            "linecolor": "white",
            "showbackground": true,
            "ticks": "",
            "zerolinecolor": "white"
           },
           "yaxis": {
            "backgroundcolor": "#E5ECF6",
            "gridcolor": "white",
            "gridwidth": 2,
            "linecolor": "white",
            "showbackground": true,
            "ticks": "",
            "zerolinecolor": "white"
           },
           "zaxis": {
            "backgroundcolor": "#E5ECF6",
            "gridcolor": "white",
            "gridwidth": 2,
            "linecolor": "white",
            "showbackground": true,
            "ticks": "",
            "zerolinecolor": "white"
           }
          },
          "shapedefaults": {
           "line": {
            "color": "#2a3f5f"
           }
          },
          "ternary": {
           "aaxis": {
            "gridcolor": "white",
            "linecolor": "white",
            "ticks": ""
           },
           "baxis": {
            "gridcolor": "white",
            "linecolor": "white",
            "ticks": ""
           },
           "bgcolor": "#E5ECF6",
           "caxis": {
            "gridcolor": "white",
            "linecolor": "white",
            "ticks": ""
           }
          },
          "title": {
           "x": 0.05
          },
          "xaxis": {
           "automargin": true,
           "gridcolor": "white",
           "linecolor": "white",
           "ticks": "",
           "title": {
            "standoff": 15
           },
           "zerolinecolor": "white",
           "zerolinewidth": 2
          },
          "yaxis": {
           "automargin": true,
           "gridcolor": "white",
           "linecolor": "white",
           "ticks": "",
           "title": {
            "standoff": 15
           },
           "zerolinecolor": "white",
           "zerolinewidth": 2
          }
         }
        }
       }
      }
     },
     "metadata": {},
     "output_type": "display_data"
    }
   ],
   "source": [
    "import plotly.express as px\n",
    "import pandas as pd\n",
    "\n",
    "fig = px.choropleth(locations=edu_indicators_2017['country_code'], \n",
    "                    locationmode=\"ISO-3\",\n",
    "                    color=edu_indicators_2017['income_grp'],\n",
    "                    color_discrete_map={'High income':'Blue',\n",
    "                                        'Upper middle income':'Green',\n",
    "                                        'Lower middle income':'Orange',\n",
    "                                        'Low income':'Red'},\n",
    "                    scope=\"world\"\n",
    "                   )\n",
    "fig.show()"
   ]
  },
  {
   "cell_type": "code",
   "execution_count": 12,
   "metadata": {},
   "outputs": [
    {
     "data": {
      "application/vnd.plotly.v1+json": {
       "config": {
        "linkText": "Export to plot.ly",
        "plotlyServerURL": "https://plot.ly",
        "showLink": false
       },
       "data": [
        {
         "locations": [
          "BGR",
          "BRA",
          "CHL",
          "CHN",
          "ESP",
          "IND",
          "JOR",
          "KEN",
          "MEX",
          "MLI",
          "NPL",
          "NZL",
          "QAT",
          "RWA",
          "SEN",
          "SGP",
          "SLV",
          "UKR",
          "UZB",
          "ZAF",
          "BGR",
          "BRA",
          "CHL",
          "CHN",
          "ESP",
          "IND",
          "JOR",
          "KEN",
          "MEX",
          "MLI",
          "NPL",
          "NZL",
          "QAT",
          "RWA",
          "SEN",
          "SGP",
          "SLV",
          "UKR",
          "UZB",
          "ZAF",
          "BGR",
          "BRA",
          "CHL",
          "CHN",
          "ESP",
          "IND",
          "JOR",
          "KEN",
          "MEX",
          "MLI",
          "NPL",
          "NZL",
          "QAT",
          "RWA",
          "SEN",
          "SGP",
          "SLV",
          "UKR",
          "UZB",
          "ZAF",
          "BGR",
          "BRA",
          "CHL",
          "CHN",
          "ESP",
          "IND",
          "JOR",
          "KEN",
          "MEX",
          "MLI",
          "NPL",
          "NZL",
          "QAT",
          "RWA",
          "SEN",
          "SGP",
          "SLV",
          "UKR",
          "UZB",
          "ZAF",
          "BGR",
          "BRA",
          "CHL",
          "CHN",
          "ESP",
          "IND",
          "JOR",
          "KEN",
          "MEX",
          "MLI",
          "NPL",
          "NZL",
          "QAT",
          "RWA",
          "SEN",
          "SGP",
          "SLV",
          "UKR",
          "UZB",
          "ZAF",
          "BGR",
          "BRA",
          "CHL",
          "CHN",
          "ESP",
          "IND",
          "JOR",
          "KEN",
          "MEX",
          "MLI",
          "NPL",
          "NZL",
          "QAT",
          "RWA",
          "SEN",
          "SGP",
          "SLV",
          "UKR",
          "UZB",
          "ZAF",
          "BGR",
          "BRA",
          "CHL",
          "CHN",
          "ESP",
          "IND",
          "JOR",
          "KEN",
          "MEX",
          "MLI",
          "NPL",
          "NZL",
          "QAT",
          "RWA",
          "SEN",
          "SGP",
          "SLV",
          "UKR",
          "UZB",
          "ZAF",
          "BGR",
          "BRA",
          "CHL",
          "CHN",
          "ESP",
          "IND",
          "JOR",
          "KEN",
          "MEX",
          "MLI",
          "NPL",
          "NZL",
          "QAT",
          "RWA",
          "SEN",
          "SGP",
          "SLV",
          "UKR",
          "UZB",
          "ZAF",
          "BGR",
          "BRA",
          "CHL",
          "CHN",
          "ESP",
          "IND",
          "JOR",
          "KEN",
          "MEX",
          "MLI",
          "NPL",
          "NZL",
          "QAT",
          "RWA",
          "SEN",
          "SGP",
          "SLV",
          "UKR",
          "UZB",
          "ZAF",
          "BGR",
          "BRA",
          "CHL",
          "CHN",
          "ESP",
          "IND",
          "JOR",
          "KEN",
          "MEX",
          "MLI",
          "NPL",
          "NZL",
          "QAT",
          "RWA",
          "SEN",
          "SGP",
          "SLV",
          "UKR",
          "UZB",
          "ZAF"
         ],
         "text": [
          "Republic of Bulgaria",
          "Federative Republic of Brazil",
          "Republic of Chile",
          "People's Republic of China",
          "Kingdom of Spain",
          "Republic of India",
          "Hashemite Kingdom of Jordan",
          "Republic of Kenya",
          "United Mexican States",
          "Republic of Mali",
          "Nepal",
          "New Zealand",
          "State of Qatar",
          "Republic of Rwanda",
          "Republic of Senegal",
          "Republic of Singapore",
          "Republic of El Salvador",
          "Ukraine",
          "Republic of Uzbekistan",
          "Republic of South Africa",
          "Republic of Bulgaria",
          "Federative Republic of Brazil",
          "Republic of Chile",
          "People's Republic of China",
          "Kingdom of Spain",
          "Republic of India",
          "Hashemite Kingdom of Jordan",
          "Republic of Kenya",
          "United Mexican States",
          "Republic of Mali",
          "Nepal",
          "New Zealand",
          "State of Qatar",
          "Republic of Rwanda",
          "Republic of Senegal",
          "Republic of Singapore",
          "Republic of El Salvador",
          "Ukraine",
          "Republic of Uzbekistan",
          "Republic of South Africa",
          "Republic of Bulgaria",
          "Federative Republic of Brazil",
          "Republic of Chile",
          "People's Republic of China",
          "Kingdom of Spain",
          "Republic of India",
          "Hashemite Kingdom of Jordan",
          "Republic of Kenya",
          "United Mexican States",
          "Republic of Mali",
          "Nepal",
          "New Zealand",
          "State of Qatar",
          "Republic of Rwanda",
          "Republic of Senegal",
          "Republic of Singapore",
          "Republic of El Salvador",
          "Ukraine",
          "Republic of Uzbekistan",
          "Republic of South Africa",
          "Republic of Bulgaria",
          "Federative Republic of Brazil",
          "Republic of Chile",
          "People's Republic of China",
          "Kingdom of Spain",
          "Republic of India",
          "Hashemite Kingdom of Jordan",
          "Republic of Kenya",
          "United Mexican States",
          "Republic of Mali",
          "Nepal",
          "New Zealand",
          "State of Qatar",
          "Republic of Rwanda",
          "Republic of Senegal",
          "Republic of Singapore",
          "Republic of El Salvador",
          "Ukraine",
          "Republic of Uzbekistan",
          "Republic of South Africa",
          "Republic of Bulgaria",
          "Federative Republic of Brazil",
          "Republic of Chile",
          "People's Republic of China",
          "Kingdom of Spain",
          "Republic of India",
          "Hashemite Kingdom of Jordan",
          "Republic of Kenya",
          "United Mexican States",
          "Republic of Mali",
          "Nepal",
          "New Zealand",
          "State of Qatar",
          "Republic of Rwanda",
          "Republic of Senegal",
          "Republic of Singapore",
          "Republic of El Salvador",
          "Ukraine",
          "Republic of Uzbekistan",
          "Republic of South Africa",
          "Republic of Bulgaria",
          "Federative Republic of Brazil",
          "Republic of Chile",
          "People's Republic of China",
          "Kingdom of Spain",
          "Republic of India",
          "Hashemite Kingdom of Jordan",
          "Republic of Kenya",
          "United Mexican States",
          "Republic of Mali",
          "Nepal",
          "New Zealand",
          "State of Qatar",
          "Republic of Rwanda",
          "Republic of Senegal",
          "Republic of Singapore",
          "Republic of El Salvador",
          "Ukraine",
          "Republic of Uzbekistan",
          "Republic of South Africa",
          "Republic of Bulgaria",
          "Federative Republic of Brazil",
          "Republic of Chile",
          "People's Republic of China",
          "Kingdom of Spain",
          "Republic of India",
          "Hashemite Kingdom of Jordan",
          "Republic of Kenya",
          "United Mexican States",
          "Republic of Mali",
          "Nepal",
          "New Zealand",
          "State of Qatar",
          "Republic of Rwanda",
          "Republic of Senegal",
          "Republic of Singapore",
          "Republic of El Salvador",
          "Ukraine",
          "Republic of Uzbekistan",
          "Republic of South Africa",
          "Republic of Bulgaria",
          "Federative Republic of Brazil",
          "Republic of Chile",
          "People's Republic of China",
          "Kingdom of Spain",
          "Republic of India",
          "Hashemite Kingdom of Jordan",
          "Republic of Kenya",
          "United Mexican States",
          "Republic of Mali",
          "Nepal",
          "New Zealand",
          "State of Qatar",
          "Republic of Rwanda",
          "Republic of Senegal",
          "Republic of Singapore",
          "Republic of El Salvador",
          "Ukraine",
          "Republic of Uzbekistan",
          "Republic of South Africa",
          "Republic of Bulgaria",
          "Federative Republic of Brazil",
          "Republic of Chile",
          "People's Republic of China",
          "Kingdom of Spain",
          "Republic of India",
          "Hashemite Kingdom of Jordan",
          "Republic of Kenya",
          "United Mexican States",
          "Republic of Mali",
          "Nepal",
          "New Zealand",
          "State of Qatar",
          "Republic of Rwanda",
          "Republic of Senegal",
          "Republic of Singapore",
          "Republic of El Salvador",
          "Ukraine",
          "Republic of Uzbekistan",
          "Republic of South Africa",
          "Republic of Bulgaria",
          "Federative Republic of Brazil",
          "Republic of Chile",
          "People's Republic of China",
          "Kingdom of Spain",
          "Republic of India",
          "Hashemite Kingdom of Jordan",
          "Republic of Kenya",
          "United Mexican States",
          "Republic of Mali",
          "Nepal",
          "New Zealand",
          "State of Qatar",
          "Republic of Rwanda",
          "Republic of Senegal",
          "Republic of Singapore",
          "Republic of El Salvador",
          "Ukraine",
          "Republic of Uzbekistan",
          "Republic of South Africa"
         ],
         "type": "choropleth",
         "z": [
          3,
          3,
          0,
          3,
          0,
          2,
          3,
          2,
          3,
          1,
          2,
          0,
          0,
          1,
          2,
          0,
          2,
          2,
          2,
          3,
          3,
          3,
          0,
          3,
          0,
          2,
          3,
          2,
          3,
          1,
          2,
          0,
          0,
          1,
          2,
          0,
          2,
          2,
          2,
          3,
          3,
          3,
          0,
          3,
          0,
          2,
          3,
          2,
          3,
          1,
          2,
          0,
          0,
          1,
          2,
          0,
          2,
          2,
          2,
          3,
          3,
          3,
          0,
          3,
          0,
          2,
          3,
          2,
          3,
          1,
          2,
          0,
          0,
          1,
          2,
          0,
          2,
          2,
          2,
          3,
          3,
          3,
          0,
          3,
          0,
          2,
          3,
          2,
          3,
          1,
          2,
          0,
          0,
          1,
          2,
          0,
          2,
          2,
          2,
          3,
          3,
          3,
          0,
          3,
          0,
          2,
          3,
          2,
          3,
          1,
          2,
          0,
          0,
          1,
          2,
          0,
          2,
          2,
          2,
          3,
          3,
          3,
          0,
          3,
          0,
          2,
          3,
          2,
          3,
          1,
          2,
          0,
          0,
          1,
          2,
          0,
          2,
          2,
          2,
          3,
          3,
          3,
          0,
          3,
          0,
          2,
          3,
          2,
          3,
          1,
          2,
          0,
          0,
          1,
          2,
          0,
          2,
          2,
          2,
          3,
          3,
          3,
          0,
          3,
          0,
          2,
          3,
          2,
          3,
          1,
          2,
          0,
          0,
          1,
          2,
          0,
          2,
          2,
          2,
          3,
          3,
          3,
          0,
          3,
          0,
          2,
          3,
          2,
          3,
          1,
          2,
          0,
          0,
          1,
          2,
          0,
          2,
          2,
          2,
          3
         ]
        }
       ],
       "layout": {
        "geo": {
         "lakecolor": "rgb(0,191,255)",
         "projection": {
          "type": "robinson"
         },
         "showframe": false,
         "showlakes": false
        },
        "template": {
         "data": {
          "bar": [
           {
            "error_x": {
             "color": "#2a3f5f"
            },
            "error_y": {
             "color": "#2a3f5f"
            },
            "marker": {
             "line": {
              "color": "#E5ECF6",
              "width": 0.5
             },
             "pattern": {
              "fillmode": "overlay",
              "size": 10,
              "solidity": 0.2
             }
            },
            "type": "bar"
           }
          ],
          "barpolar": [
           {
            "marker": {
             "line": {
              "color": "#E5ECF6",
              "width": 0.5
             },
             "pattern": {
              "fillmode": "overlay",
              "size": 10,
              "solidity": 0.2
             }
            },
            "type": "barpolar"
           }
          ],
          "carpet": [
           {
            "aaxis": {
             "endlinecolor": "#2a3f5f",
             "gridcolor": "white",
             "linecolor": "white",
             "minorgridcolor": "white",
             "startlinecolor": "#2a3f5f"
            },
            "baxis": {
             "endlinecolor": "#2a3f5f",
             "gridcolor": "white",
             "linecolor": "white",
             "minorgridcolor": "white",
             "startlinecolor": "#2a3f5f"
            },
            "type": "carpet"
           }
          ],
          "choropleth": [
           {
            "colorbar": {
             "outlinewidth": 0,
             "ticks": ""
            },
            "type": "choropleth"
           }
          ],
          "contour": [
           {
            "colorbar": {
             "outlinewidth": 0,
             "ticks": ""
            },
            "colorscale": [
             [
              0,
              "#0d0887"
             ],
             [
              0.1111111111111111,
              "#46039f"
             ],
             [
              0.2222222222222222,
              "#7201a8"
             ],
             [
              0.3333333333333333,
              "#9c179e"
             ],
             [
              0.4444444444444444,
              "#bd3786"
             ],
             [
              0.5555555555555556,
              "#d8576b"
             ],
             [
              0.6666666666666666,
              "#ed7953"
             ],
             [
              0.7777777777777778,
              "#fb9f3a"
             ],
             [
              0.8888888888888888,
              "#fdca26"
             ],
             [
              1,
              "#f0f921"
             ]
            ],
            "type": "contour"
           }
          ],
          "contourcarpet": [
           {
            "colorbar": {
             "outlinewidth": 0,
             "ticks": ""
            },
            "type": "contourcarpet"
           }
          ],
          "heatmap": [
           {
            "colorbar": {
             "outlinewidth": 0,
             "ticks": ""
            },
            "colorscale": [
             [
              0,
              "#0d0887"
             ],
             [
              0.1111111111111111,
              "#46039f"
             ],
             [
              0.2222222222222222,
              "#7201a8"
             ],
             [
              0.3333333333333333,
              "#9c179e"
             ],
             [
              0.4444444444444444,
              "#bd3786"
             ],
             [
              0.5555555555555556,
              "#d8576b"
             ],
             [
              0.6666666666666666,
              "#ed7953"
             ],
             [
              0.7777777777777778,
              "#fb9f3a"
             ],
             [
              0.8888888888888888,
              "#fdca26"
             ],
             [
              1,
              "#f0f921"
             ]
            ],
            "type": "heatmap"
           }
          ],
          "heatmapgl": [
           {
            "colorbar": {
             "outlinewidth": 0,
             "ticks": ""
            },
            "colorscale": [
             [
              0,
              "#0d0887"
             ],
             [
              0.1111111111111111,
              "#46039f"
             ],
             [
              0.2222222222222222,
              "#7201a8"
             ],
             [
              0.3333333333333333,
              "#9c179e"
             ],
             [
              0.4444444444444444,
              "#bd3786"
             ],
             [
              0.5555555555555556,
              "#d8576b"
             ],
             [
              0.6666666666666666,
              "#ed7953"
             ],
             [
              0.7777777777777778,
              "#fb9f3a"
             ],
             [
              0.8888888888888888,
              "#fdca26"
             ],
             [
              1,
              "#f0f921"
             ]
            ],
            "type": "heatmapgl"
           }
          ],
          "histogram": [
           {
            "marker": {
             "pattern": {
              "fillmode": "overlay",
              "size": 10,
              "solidity": 0.2
             }
            },
            "type": "histogram"
           }
          ],
          "histogram2d": [
           {
            "colorbar": {
             "outlinewidth": 0,
             "ticks": ""
            },
            "colorscale": [
             [
              0,
              "#0d0887"
             ],
             [
              0.1111111111111111,
              "#46039f"
             ],
             [
              0.2222222222222222,
              "#7201a8"
             ],
             [
              0.3333333333333333,
              "#9c179e"
             ],
             [
              0.4444444444444444,
              "#bd3786"
             ],
             [
              0.5555555555555556,
              "#d8576b"
             ],
             [
              0.6666666666666666,
              "#ed7953"
             ],
             [
              0.7777777777777778,
              "#fb9f3a"
             ],
             [
              0.8888888888888888,
              "#fdca26"
             ],
             [
              1,
              "#f0f921"
             ]
            ],
            "type": "histogram2d"
           }
          ],
          "histogram2dcontour": [
           {
            "colorbar": {
             "outlinewidth": 0,
             "ticks": ""
            },
            "colorscale": [
             [
              0,
              "#0d0887"
             ],
             [
              0.1111111111111111,
              "#46039f"
             ],
             [
              0.2222222222222222,
              "#7201a8"
             ],
             [
              0.3333333333333333,
              "#9c179e"
             ],
             [
              0.4444444444444444,
              "#bd3786"
             ],
             [
              0.5555555555555556,
              "#d8576b"
             ],
             [
              0.6666666666666666,
              "#ed7953"
             ],
             [
              0.7777777777777778,
              "#fb9f3a"
             ],
             [
              0.8888888888888888,
              "#fdca26"
             ],
             [
              1,
              "#f0f921"
             ]
            ],
            "type": "histogram2dcontour"
           }
          ],
          "mesh3d": [
           {
            "colorbar": {
             "outlinewidth": 0,
             "ticks": ""
            },
            "type": "mesh3d"
           }
          ],
          "parcoords": [
           {
            "line": {
             "colorbar": {
              "outlinewidth": 0,
              "ticks": ""
             }
            },
            "type": "parcoords"
           }
          ],
          "pie": [
           {
            "automargin": true,
            "type": "pie"
           }
          ],
          "scatter": [
           {
            "marker": {
             "colorbar": {
              "outlinewidth": 0,
              "ticks": ""
             }
            },
            "type": "scatter"
           }
          ],
          "scatter3d": [
           {
            "line": {
             "colorbar": {
              "outlinewidth": 0,
              "ticks": ""
             }
            },
            "marker": {
             "colorbar": {
              "outlinewidth": 0,
              "ticks": ""
             }
            },
            "type": "scatter3d"
           }
          ],
          "scattercarpet": [
           {
            "marker": {
             "colorbar": {
              "outlinewidth": 0,
              "ticks": ""
             }
            },
            "type": "scattercarpet"
           }
          ],
          "scattergeo": [
           {
            "marker": {
             "colorbar": {
              "outlinewidth": 0,
              "ticks": ""
             }
            },
            "type": "scattergeo"
           }
          ],
          "scattergl": [
           {
            "marker": {
             "colorbar": {
              "outlinewidth": 0,
              "ticks": ""
             }
            },
            "type": "scattergl"
           }
          ],
          "scattermapbox": [
           {
            "marker": {
             "colorbar": {
              "outlinewidth": 0,
              "ticks": ""
             }
            },
            "type": "scattermapbox"
           }
          ],
          "scatterpolar": [
           {
            "marker": {
             "colorbar": {
              "outlinewidth": 0,
              "ticks": ""
             }
            },
            "type": "scatterpolar"
           }
          ],
          "scatterpolargl": [
           {
            "marker": {
             "colorbar": {
              "outlinewidth": 0,
              "ticks": ""
             }
            },
            "type": "scatterpolargl"
           }
          ],
          "scatterternary": [
           {
            "marker": {
             "colorbar": {
              "outlinewidth": 0,
              "ticks": ""
             }
            },
            "type": "scatterternary"
           }
          ],
          "surface": [
           {
            "colorbar": {
             "outlinewidth": 0,
             "ticks": ""
            },
            "colorscale": [
             [
              0,
              "#0d0887"
             ],
             [
              0.1111111111111111,
              "#46039f"
             ],
             [
              0.2222222222222222,
              "#7201a8"
             ],
             [
              0.3333333333333333,
              "#9c179e"
             ],
             [
              0.4444444444444444,
              "#bd3786"
             ],
             [
              0.5555555555555556,
              "#d8576b"
             ],
             [
              0.6666666666666666,
              "#ed7953"
             ],
             [
              0.7777777777777778,
              "#fb9f3a"
             ],
             [
              0.8888888888888888,
              "#fdca26"
             ],
             [
              1,
              "#f0f921"
             ]
            ],
            "type": "surface"
           }
          ],
          "table": [
           {
            "cells": {
             "fill": {
              "color": "#EBF0F8"
             },
             "line": {
              "color": "white"
             }
            },
            "header": {
             "fill": {
              "color": "#C8D4E3"
             },
             "line": {
              "color": "white"
             }
            },
            "type": "table"
           }
          ]
         },
         "layout": {
          "annotationdefaults": {
           "arrowcolor": "#2a3f5f",
           "arrowhead": 0,
           "arrowwidth": 1
          },
          "autotypenumbers": "strict",
          "coloraxis": {
           "colorbar": {
            "outlinewidth": 0,
            "ticks": ""
           }
          },
          "colorscale": {
           "diverging": [
            [
             0,
             "#8e0152"
            ],
            [
             0.1,
             "#c51b7d"
            ],
            [
             0.2,
             "#de77ae"
            ],
            [
             0.3,
             "#f1b6da"
            ],
            [
             0.4,
             "#fde0ef"
            ],
            [
             0.5,
             "#f7f7f7"
            ],
            [
             0.6,
             "#e6f5d0"
            ],
            [
             0.7,
             "#b8e186"
            ],
            [
             0.8,
             "#7fbc41"
            ],
            [
             0.9,
             "#4d9221"
            ],
            [
             1,
             "#276419"
            ]
           ],
           "sequential": [
            [
             0,
             "#0d0887"
            ],
            [
             0.1111111111111111,
             "#46039f"
            ],
            [
             0.2222222222222222,
             "#7201a8"
            ],
            [
             0.3333333333333333,
             "#9c179e"
            ],
            [
             0.4444444444444444,
             "#bd3786"
            ],
            [
             0.5555555555555556,
             "#d8576b"
            ],
            [
             0.6666666666666666,
             "#ed7953"
            ],
            [
             0.7777777777777778,
             "#fb9f3a"
            ],
            [
             0.8888888888888888,
             "#fdca26"
            ],
            [
             1,
             "#f0f921"
            ]
           ],
           "sequentialminus": [
            [
             0,
             "#0d0887"
            ],
            [
             0.1111111111111111,
             "#46039f"
            ],
            [
             0.2222222222222222,
             "#7201a8"
            ],
            [
             0.3333333333333333,
             "#9c179e"
            ],
            [
             0.4444444444444444,
             "#bd3786"
            ],
            [
             0.5555555555555556,
             "#d8576b"
            ],
            [
             0.6666666666666666,
             "#ed7953"
            ],
            [
             0.7777777777777778,
             "#fb9f3a"
            ],
            [
             0.8888888888888888,
             "#fdca26"
            ],
            [
             1,
             "#f0f921"
            ]
           ]
          },
          "colorway": [
           "#636efa",
           "#EF553B",
           "#00cc96",
           "#ab63fa",
           "#FFA15A",
           "#19d3f3",
           "#FF6692",
           "#B6E880",
           "#FF97FF",
           "#FECB52"
          ],
          "font": {
           "color": "#2a3f5f"
          },
          "geo": {
           "bgcolor": "white",
           "lakecolor": "white",
           "landcolor": "#E5ECF6",
           "showlakes": true,
           "showland": true,
           "subunitcolor": "white"
          },
          "hoverlabel": {
           "align": "left"
          },
          "hovermode": "closest",
          "mapbox": {
           "style": "light"
          },
          "paper_bgcolor": "white",
          "plot_bgcolor": "#E5ECF6",
          "polar": {
           "angularaxis": {
            "gridcolor": "white",
            "linecolor": "white",
            "ticks": ""
           },
           "bgcolor": "#E5ECF6",
           "radialaxis": {
            "gridcolor": "white",
            "linecolor": "white",
            "ticks": ""
           }
          },
          "scene": {
           "xaxis": {
            "backgroundcolor": "#E5ECF6",
            "gridcolor": "white",
            "gridwidth": 2,
            "linecolor": "white",
            "showbackground": true,
            "ticks": "",
            "zerolinecolor": "white"
           },
           "yaxis": {
            "backgroundcolor": "#E5ECF6",
            "gridcolor": "white",
            "gridwidth": 2,
            "linecolor": "white",
            "showbackground": true,
            "ticks": "",
            "zerolinecolor": "white"
           },
           "zaxis": {
            "backgroundcolor": "#E5ECF6",
            "gridcolor": "white",
            "gridwidth": 2,
            "linecolor": "white",
            "showbackground": true,
            "ticks": "",
            "zerolinecolor": "white"
           }
          },
          "shapedefaults": {
           "line": {
            "color": "#2a3f5f"
           }
          },
          "ternary": {
           "aaxis": {
            "gridcolor": "white",
            "linecolor": "white",
            "ticks": ""
           },
           "baxis": {
            "gridcolor": "white",
            "linecolor": "white",
            "ticks": ""
           },
           "bgcolor": "#E5ECF6",
           "caxis": {
            "gridcolor": "white",
            "linecolor": "white",
            "ticks": ""
           }
          },
          "title": {
           "x": 0.05
          },
          "xaxis": {
           "automargin": true,
           "gridcolor": "white",
           "linecolor": "white",
           "ticks": "",
           "title": {
            "standoff": 15
           },
           "zerolinecolor": "white",
           "zerolinewidth": 2
          },
          "yaxis": {
           "automargin": true,
           "gridcolor": "white",
           "linecolor": "white",
           "ticks": "",
           "title": {
            "standoff": 15
           },
           "zerolinecolor": "white",
           "zerolinewidth": 2
          }
         }
        },
        "title": {
         "text": "VIZ"
        }
       }
      }
     },
     "metadata": {},
     "output_type": "display_data"
    }
   ],
   "source": [
    "import plotly.express as px\n",
    "import pandas as pd\n",
    "import plotly.offline as po\n",
    "import plotly.graph_objs as pg\n",
    "import matplotlib.pyplot as plt\n",
    "%matplotlib inline\n",
    "\n",
    "#Visualize the countries selected on a map .. color the countries by income group.. Upon hovering it should show the HDI, GDP, GDP_Growth, Qual_Ed\n",
    "clr={'1':'red', '2':'Yellow','3':'Green','4':'Blue'}\n",
    "country_code = ['CHL','EGY','USA','CAN']\n",
    "gdp_us = ['1','2','2','4']\n",
    "country_name = ['Chile','Egypt','United States','Canada']\n",
    "\n",
    "dt = dict(type='choropleth', \n",
    "            locations = edu_indicators['country_code'], \n",
    "            #z = edu_indicators.income_grp.astype('category').codes,\n",
    "            z = edu_indicators[['income_grp']].apply(lambda col:pd.Categorical(col).codes).income_grp,\n",
    "            text = edu_indicators['country_name'])\n",
    "\n",
    "layout = dict(title = 'VIZ', \n",
    "              geo = dict(showframe = False, \n",
    "                       projection = {'type':'robinson'}, \n",
    "                       showlakes = False,\n",
    "                       lakecolor = 'rgb(0,191,255)'))\n",
    "x = pg.Figure(data = [dt], layout = layout)\n",
    "po.iplot(x)\n"
   ]
  },
  {
   "cell_type": "markdown",
   "metadata": {},
   "source": [
    "### Bivariate data analysis"
   ]
  },
  {
   "cell_type": "code",
   "execution_count": 13,
   "metadata": {},
   "outputs": [
    {
     "data": {
      "text/plain": [
       "Text(0.5, 1.05, 'Quality of Education System')"
      ]
     },
     "execution_count": 13,
     "metadata": {},
     "output_type": "execute_result"
    },
    {
     "data": {
      "image/png": "[encoded data removed]",
      "text/plain": [
       "<Figure size 1080x864 with 20 Axes>"
      ]
     },
     "metadata": {
      "needs_background": "light"
     },
     "output_type": "display_data"
    }
   ],
   "source": [
    "import seaborn as sns\n",
    "g = sns.FacetGrid(edu_indicators, col='country_name', palette='Set1', col_wrap=5)\n",
    "g.map_dataframe(sns.lineplot,'year', 'val_qual_ed')\n",
    "g.fig.suptitle('Quality of Education System', y=1.05, fontweight='bold')"
   ]
  },
  {
   "cell_type": "code",
   "execution_count": 14,
   "metadata": {},
   "outputs": [
    {
     "name": "stderr",
     "output_type": "stream",
     "text": [
      "/var/folders/g2/rxrv5lvj0gzbd4fs1kyn5zgm0000gn/T/ipykernel_23975/2919615426.py:5: DeprecationWarning:\n",
      "\n",
      "`np.bool` is a deprecated alias for the builtin `bool`. To silence this warning, use `bool` by itself. Doing this will not modify any behavior and is safe. If you specifically wanted the numpy scalar type, use `np.bool_` here.\n",
      "Deprecated in NumPy 1.20; for more details and guidance: https://numpy.org/devdocs/release/1.20.0-notes.html#deprecations\n",
      "\n"
     ]
    },
    {
     "data": {
      "image/png": "[encoded data removed]",
      "text/plain": [
       "<Figure size 720x576 with 2 Axes>"
      ]
     },
     "metadata": {
      "needs_background": "light"
     },
     "output_type": "display_data"
    }
   ],
   "source": [
    "df_corr = edu_indicators.corr()\n",
    "\n",
    "fig, ax = plt.subplots(figsize=(10, 8))\n",
    "# mask\n",
    "mask = np.triu(np.ones_like(df_corr, dtype=np.bool))\n",
    "# adjust mask and df\n",
    "mask = mask[1:, :-1]\n",
    "corr = df_corr.iloc[1:,:-1].copy()\n",
    "# plot heatmap\n",
    "sns.heatmap(corr, mask=mask, annot=True, fmt=\".2f\", cmap='Blues',\n",
    "           vmin=-1, vmax=1, cbar_kws={\"shrink\": .8})\n",
    "# yticks\n",
    "plt.yticks(rotation=0)\n",
    "plt.show()"
   ]
  },
  {
   "cell_type": "markdown",
   "metadata": {},
   "source": [
    "### Closing Connection"
   ]
  },
  {
   "cell_type": "code",
   "execution_count": 15,
   "metadata": {},
   "outputs": [],
   "source": [
    "conn.close()"
   ]
  }
 ],
 "metadata": {
  "interpreter": {
   "hash": "093eab89ae9eef50f6b618021bd6801c29ac2779d3b86c3950776c321a6e7de7"
  },
  "kernelspec": {
   "display_name": "Python 3.9.7 ('MBAN')",
   "language": "python",
   "name": "python3"
  },
  "language_info": {
   "codemirror_mode": {
    "name": "ipython",
    "version": 3
   },
   "file_extension": ".py",
   "mimetype": "text/x-python",
   "name": "python",
   "nbconvert_exporter": "python",
   "pygments_lexer": "ipython3",
   "version": "3.9.7"
  },
  "orig_nbformat": 4
 },
 "nbformat": 4,
 "nbformat_minor": 2
}

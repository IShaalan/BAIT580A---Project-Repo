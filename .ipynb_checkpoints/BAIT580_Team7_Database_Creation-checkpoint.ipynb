{
 "cells": [
  {
   "cell_type": "markdown",
   "metadata": {},
   "source": [
    "# BAIT580A Team 7 Project Deliverable One\n"
   ]
  },
  {
   "cell_type": "markdown",
   "metadata": {},
   "source": [
    "## Author(s)"
   ]
  },
  {
   "cell_type": "markdown",
   "metadata": {},
   "source": [
    "| Name              \t| Email                     \t| Orcid Id            \t|\n",
    "|-------------------\t|---------------------------\t|---------------------\t|\n",
    "| Christine David   \t| christinereni@gmail.com   \t|                     \t|\n",
    "| Ruoqi Zhu         \t| zhuruoqi43@gmail.com      \t|                     \t|\n",
    "| Parul Metha       \t| Parul.mehta0796@gmail.com \t|                     \t|\n",
    "| Syed Arsalan Raza \t| Syedars@student.UBC.ca    \t|                     \t|\n",
    "| Islam Shaalan     \t| ishaalan@student.ubc.ca   \t| 0000-0003-1243-6162 \t|"
   ]
  },
  {
   "cell_type": "markdown",
   "metadata": {
    "toc": true
   },
   "source": [
    "<h1>Table of Contents<span class=\"tocSkip\"></span></h1>\n",
    "<div class=\"toc\"><ul class=\"toc-item\"><li><span><a href=\"#Template-Notebook-for-EarthCube---Long-Version\" data-toc-modified-id=\"Template-Notebook-for-EarthCube---Long-Version-1\"><span class=\"toc-item-num\">1&nbsp;&nbsp;</span>Template Notebook for EarthCube - Long Version</a></span><ul class=\"toc-item\"><li><span><a href=\"#Author(s)\" data-toc-modified-id=\"Author(s)-1.1\"><span class=\"toc-item-num\">1.1&nbsp;&nbsp;</span>Author(s)</a></span></li><li><span><a href=\"#Purpose\" data-toc-modified-id=\"Purpose-1.2\"><span class=\"toc-item-num\">1.2&nbsp;&nbsp;</span>Purpose</a></span></li><li><span><a href=\"#Methodology\" data-toc-modified-id=\"Methodology-1.3\"><span class=\"toc-item-num\">1.3&nbsp;&nbsp;</span>Methodology</a></span></li><li><span><a href=\"#Results\" data-toc-modified-id=\"Results-1.4\"><span class=\"toc-item-num\">1.4&nbsp;&nbsp;</span>Results</a></span></li><li><span><a href=\"#Funding\" data-toc-modified-id=\"Funding-1.5\"><span class=\"toc-item-num\">1.5&nbsp;&nbsp;</span>Funding</a></span></li><li><span><a href=\"#Keywords\" data-toc-modified-id=\"Keywords-1.6\"><span class=\"toc-item-num\">1.6&nbsp;&nbsp;</span>Keywords</a></span></li><li><span><a href=\"#Citation\" data-toc-modified-id=\"Citation-1.7\"><span class=\"toc-item-num\">1.7&nbsp;&nbsp;</span>Citation</a></span></li><li><span><a href=\"#Work-In-Progress---improvements\" data-toc-modified-id=\"Work-In-Progress---improvements-1.8\"><span class=\"toc-item-num\">1.8&nbsp;&nbsp;</span>Work In Progress - improvements</a></span></li><li><span><a href=\"#Suggested-next-steps\" data-toc-modified-id=\"Suggested-next-steps-1.9\"><span class=\"toc-item-num\">1.9&nbsp;&nbsp;</span>Suggested next steps</a></span></li><li><span><a href=\"#Acknowledgements\" data-toc-modified-id=\"Acknowledgements-1.10\"><span class=\"toc-item-num\">1.10&nbsp;&nbsp;</span>Acknowledgements</a></span></li></ul></li><li><span><a href=\"#Setup\" data-toc-modified-id=\"Setup-2\"><span class=\"toc-item-num\">2&nbsp;&nbsp;</span>Setup</a></span><ul class=\"toc-item\"><li><span><a href=\"#Library-import\" data-toc-modified-id=\"Library-import-2.1\"><span class=\"toc-item-num\">2.1&nbsp;&nbsp;</span>Library import</a></span></li><li><span><a href=\"#Local-library-import\" data-toc-modified-id=\"Local-library-import-2.2\"><span class=\"toc-item-num\">2.2&nbsp;&nbsp;</span>Local library import</a></span></li></ul></li><li><span><a href=\"#Parameter-definitions\" data-toc-modified-id=\"Parameter-definitions-3\"><span class=\"toc-item-num\">3&nbsp;&nbsp;</span>Parameter definitions</a></span></li><li><span><a href=\"#Data-import\" data-toc-modified-id=\"Data-import-4\"><span class=\"toc-item-num\">4&nbsp;&nbsp;</span>Data import</a></span></li><li><span><a href=\"#Data-processing-and-analysis\" data-toc-modified-id=\"Data-processing-and-analysis-5\"><span class=\"toc-item-num\">5&nbsp;&nbsp;</span>Data processing and analysis</a></span><ul class=\"toc-item\"><li><span><a href=\"#The-10-rules\" data-toc-modified-id=\"The-10-rules-5.1\"><span class=\"toc-item-num\">5.1&nbsp;&nbsp;</span>The 10 rules</a></span></li><li><span><a href=\"#Using-notebook-template\" data-toc-modified-id=\"Using-notebook-template-5.2\"><span class=\"toc-item-num\">5.2&nbsp;&nbsp;</span>Using notebook template</a></span></li><li><span><a href=\"#Adding-table-of-contents\" data-toc-modified-id=\"Adding-table-of-contents-5.3\"><span class=\"toc-item-num\">5.3&nbsp;&nbsp;</span>Adding table of contents</a></span></li><li><span><a href=\"#Creating-Docker-and-Binder-for-your-notebook-repository\" data-toc-modified-id=\"Creating-Docker-and-Binder-for-your-notebook-repository-5.4\"><span class=\"toc-item-num\">5.4&nbsp;&nbsp;</span>Creating Docker and Binder for your notebook repository</a></span></li></ul></li><li><span><a href=\"#References\" data-toc-modified-id=\"References-6\"><span class=\"toc-item-num\">6&nbsp;&nbsp;</span>References</a></span></li></ul></div>"
   ]
  },
  {
   "cell_type": "markdown",
   "metadata": {},
   "source": [
    "## Purpose\n",
    "This notebook is to address milestone one of the BAIT580A Course project for team 7. The project team is seeking to establish the relationship between education quality and the socioeconomic indicators in an effort to encourage policy makers to increase the budget expenditure on education.\n",
    "\n",
    "Specifically, we are interested in answering the following questions:\n",
    "- Does the education expenditure as a % of the GDP correlate with increase in quality of education?\n",
    "- Does the increase in the quality of education improve social and economical welfare of people (HDI Index)?*\n",
    "- Do scores in international standardized tests (ex. PISA, TIMMS) provide a good indicator of the quality of education?*\n",
    "- Does the increase in the quality of education result in an increase in the living standards of the people (GDP)?*\n",
    "\n",
    "In this milestone, we are loading the acquired datasets as outlined in the sources, creating the datadictionary, database design, and creating the schema and database in postgresql.  "
   ]
  },
  {
   "cell_type": "markdown",
   "metadata": {},
   "source": [
    "## Data Sources\n",
    "\n",
    "In order to answer the questions proposed, we obtained 7 datasets from 4 different recognized sources of these information.\n",
    "\n",
    "- World Economic Forum. <i> The Global Competitive Index dataset 2007-2017</i>\n",
    "- OECD (2022), Science performance (PISA) (indicator). doi: 10.1787/91952204-en (Accessed on 20 January 2022)\n",
    "- OECD (2022), Mathematics performance (PISA) (indicator). doi: 10.1787/04711c74-en (Accessed on 20 January 2022)\n",
    "- OECD (2022), Reading performance (PISA) (indicator). doi: 10.1787/79913c69-en (Accessed on 20 January 2022)\n",
    "- IEA’s Trends in International Mathematics and Science Study - TIMSS 2019\n",
    "- IEA's Trends in International Mathematics and Science Study – TIMSS 2015\n",
    "- The World Bank, <i> DataBank, World Development Indicators</i> https://databank.worldbank.org/source/world-development-indicators\n",
    "\n",
    "### Global Competitive Index dataset\n",
    "  * Title: The Global Competitive Index dataset 2007-2017\n",
    "  * URI: http://www3.weforum.org/docs/GCR2017-2018/GCI_Dataset_2007-2017.xlsx\n",
    "  * Keywords: NA\n",
    "  * Publication Date: February 26, 2018\n",
    "  * Publisher: OECD\n",
    "  * Creator: World Economic Forum\n",
    "  * Contact Point: N/A\n",
    "  * Spatial Coverage: Global\n",
    "  * Temporal Coverage: 2017 - 2018\n",
    "  * Language: English\n",
    "  * Date & Time Formats: \"DD/MM/YYYY\"\n",
    "  * Data Version: 20180712\n",
    "  * Access Date: January 18, 2022\n",
    "\n",
    "  ### PISA Science Performance Indicator\n",
    "  * Title: PISA Science Performance Indicator\n",
    "  * URI: https://doi.org/10.1787/91952204-en\n",
    "  * Keywords: pisa, science, scientific literacy\n",
    "  * Publication Date: NA\n",
    "  * Publisher: OECD\n",
    "  * Creator: OECD\n",
    "  * Contact Point: N/A\n",
    "  * Spatial Coverage: Global\n",
    "  * Temporal Coverage: 2003 - 2018\n",
    "  * Language: English, French\n",
    "  * Date & Time Formats: \"YYYY\"\n",
    "  * Data Version: NA\n",
    "  * Access Date: January 20, 2022\n",
    "\n",
    "  ### PISA Mathematics Performance Indicator\n",
    "  * Title: PISA Mathematics Performance Indicator\n",
    "  * URI: https://doi.org/10.1787/04711c74-en\n",
    "  * Keywords: maths, mathematics, pisa\n",
    "  * Publication Date: NA\n",
    "  * Publisher: OECD\n",
    "  * Creator: OECD\n",
    "  * Contact Point: N/A\n",
    "  * Spatial Coverage: Global\n",
    "  * Temporal Coverage: 2003 - 2018\n",
    "  * Language: English, French\n",
    "  * Date & Time Formats: \"YYYY\"\n",
    "  * Data Version: NA\n",
    "  * Access Date: January 20, 2022\n",
    "\n",
    "  ### PISA Reading Performance Indicator\n",
    "  * Title: PISA Reading Performance Indicator\n",
    "  * URI: https://doi.org/10.1787/79913c69-en\n",
    "  * Keywords: literacy, pisa, reading\n",
    "  * Publication Date: NA\n",
    "  * Publisher: OECD\n",
    "  * Creator: OECD\n",
    "  * Contact Point: N/A\n",
    "  * Spatial Coverage: Global\n",
    "  * Temporal Coverage: 2003 - 2018\n",
    "  * Language: English, French\n",
    "  * Date & Time Formats: \"YYYY\"\n",
    "  * Data Version: NA\n",
    "  * Access Date: January 20, 2022\n",
    "\n",
    "\n",
    "### TIMSS 2019 Results\n",
    "  * Title: IEA’s Trends in International Mathematics and Science Study - TIMSS 2020\n",
    "  * URI: https://timss2019.org/reports/download-center/\n",
    "  * Keywords: NA\n",
    "  * Publication Date: 2019\n",
    "  * Publisher: IEA's TIMSS & PIRLS International Study Center \n",
    "  * Creator: IEA's TIMSS & PIRLS International Study Center \n",
    "  * Contact Point: N/A\n",
    "  * Spatial Coverage: Global\n",
    "  * Temporal Coverage: 2019\n",
    "  * Language: English\n",
    "  * Date & Time Formats: \"YYYY\"\n",
    "  * Data Version: NA\n",
    "  * Access Date: January 20, 2022\n",
    "\n",
    "### TIMMS 2015 Mathematics and Science Results\n",
    "  * Title: IEA’s Trends in International Mathematics and Science Study - TIMSS 2015\n",
    "  * URI: https://timss2015.org/download-center/\n",
    "  * Keywords: NA\n",
    "  * Publication Date: NA\n",
    "  * Publisher: IEA's TIMSS & PIRLS International Study Center \n",
    "  * Creator: IEA's TIMSS & PIRLS International Study Center \n",
    "  * Contact Point: N/A\n",
    "  * Spatial Coverage: Global\n",
    "  * Temporal Coverage: 2015\n",
    "  * Language: English\n",
    "  * Date & Time Formats: \"YYYY\"\n",
    "  * Data Version: NA\n",
    "  * Access Date: January 20, 2022\n",
    "\n",
    "  ### DataBank, World Development Indicators\n",
    "  * Title: World Development Indicators\n",
    "  * URI: https://databank.worldbank.org/source/world-development-indicators\n",
    "  * Keywords: NA\n",
    "  * Publication Date: February 26, 2018\n",
    "  * Publisher: The World Bank\n",
    "  * Creator: The World Bank\n",
    "  * Contact Point: N/A\n",
    "  * Spatial Coverage: Global\n",
    "  * Temporal Coverage: 2002 - 2021\n",
    "  * Language: English, Español, Français, عربي, 中文\n",
    "  * Date & Time Formats: \"DD/MM/YYYY\"\n",
    "  * Data Version: 20180712\n",
    "  * Access Date: January 18, 2022\n"
   ]
  },
  {
   "cell_type": "markdown",
   "metadata": {},
   "source": [
    "## Data Dictionary"
   ]
  },
  {
   "cell_type": "markdown",
   "metadata": {},
   "source": [
    "## Work In Progress - Project Plan\n"
   ]
  },
  {
   "cell_type": "markdown",
   "metadata": {},
   "source": [
    "| Task Name                                \t| Start Date \t| End Date \t| Responsible \t| Contributor                      \t|\n",
    "|------------------------------------------\t|------------\t|----------\t|-------------\t|----------------------------------\t|\n",
    "| Project Planning                         \t| 17-Jan     \t| 17-Jan   \t| Parul       \t| Islam, Ruoqi, Christine, Arsalan \t|\n",
    "| Data sources                             \t| 17-Jan     \t| 18-Jan   \t| Islam       \t| Ruoqi                            \t|\n",
    "| Data dictionary                          \t| 19-Jan     \t| 20-Jan   \t| Arsalan     \t| Ruoqi                            \t|\n",
    "| Database Structure & Statements          \t| 19-Jan     \t| 20-Jan   \t| Christine   \t| Parul                            \t|\n",
    "| ERD Diagram                              \t| 21-Jan     \t| 21-Jan   \t| Islam       \t| Arsalan                         \t|\n",
    "| Notebook - Tidy Submission               \t| 20-Jan     \t| 21-Jan   \t| Islam       \t| Christine, Arsalan                |\n",
    "| Indexes & Materialized View & Statements \t| 22 - Jan   \t| 22 - Jan \t| Parul       \t| Ruoqi                            \t|\n",
    "| Data cleaning & transformation           \t| 22 - Jan   \t| 26 - Jan \t| Christine   \t| Islam, Arsalan                   \t|\n",
    "| Data Imputation                          \t| 27 - Jan   \t| 28 - Jan \t| Arsalan     \t| Parul                            \t|\n",
    "| Data Warehouse                           \t| 29 - Jan   \t| 31 - Jan \t| Ruoqi       \t| Christine                        \t|\n",
    "| EDA                                      \t| 31 - Jan   \t| 1 - Feb  \t| Islam       \t| Arsalan, Christine, Parul        \t|\n",
    "| Data Visualization                       \t| 1 - Feb    \t| 3 - Feb  \t| Christine   \t| Parul, Islam                     \t|\n",
    "| Data Interpretation                      \t| 3 - Feb    \t| 5 - Feb  \t| Ruoqi       \t| Islam, Arsalan                   \t|\n",
    "| Final Report                             \t| 4 - Feb    \t| 6 - Feb  \t| Parul       \t| Islam, Christine, Arsalan, Ruoqi \t|"
   ]
  },
  {
   "cell_type": "markdown",
   "metadata": {},
   "source": [
    "## Keywords\n",
    "Include up to 5 keywords, using the template below.\n",
    "\n",
    "keywords=[\"Education\", \"Education Quality\", \"Human Capital\"]"
   ]
  },
  {
   "cell_type": "markdown",
   "metadata": {},
   "source": [
    "# Setup\n",
    "\n",
    "## Library import\n",
    "Import all the required Python libraries.\n",
    "\n",
    "The code cell below is an example.\n",
    "When submitting your notebook, make sure that all external libraries are included in the requirements or environment file and library versions are explictly defined.\n",
    "\n",
    "It is a good practice to organize the imported libraries by functionality, as shown below."
   ]
  },
  {
   "cell_type": "code",
   "execution_count": 1,
   "metadata": {},
   "outputs": [
    {
     "data": {
      "text/plain": [
       "DataTransformerRegistry.enable('default')"
      ]
     },
     "execution_count": 1,
     "metadata": {},
     "output_type": "execute_result"
    }
   ],
   "source": [
    "#Base packages\n",
    "import os\n",
    "import dotenv\n",
    "\n",
    "dotenv.load_dotenv()\n",
    "DB_HOST = os.getenv('DB_HOST')\n",
    "DB_PORT = os.getenv('DB_PORT')\n",
    "DB_USER = os.getenv('DB_USER')\n",
    "DB_PASS = os.getenv('DB_PASS')\n",
    "\n",
    "conString = {'host':DB_HOST,\n",
    "             'user':DB_USER,\n",
    "             'password':DB_PASS,\n",
    "             'port':DB_PORT}\n",
    "\n",
    "# Data manipulation\n",
    "import pandas as pd\n",
    "import numpy as np\n",
    "import psycopg2\n",
    "\n",
    "# Options for pandas\n",
    "pd.options.display.max_columns = 50\n",
    "pd.options.display.max_rows = 30\n",
    "\n",
    "# Visualizations\n",
    "import altair as alt\n",
    "import matplotlib as plt\n",
    "alt.data_transformers.disable_max_rows()  # disable error for big datasets"
   ]
  },
  {
   "cell_type": "markdown",
   "metadata": {},
   "source": [
    "# Parameter definitions\n",
    "Set all relevant parameters for the notebook. By convention, parameters are uppercase, while all the other variables follow Python's guidelines."
   ]
  },
  {
   "cell_type": "code",
   "execution_count": null,
   "metadata": {},
   "outputs": [],
   "source": []
  },
  {
   "cell_type": "markdown",
   "metadata": {},
   "source": [
    "\n",
    "# Data import\n",
    "Retrieve all the required data for the analysis. Include brief data descriptions, and DOIs where possible.\n",
    "\n",
    "Please import data in one of two ways:\n",
    "1. Reference data that is available online and continuously managed (preferred). \n",
    "2. If the data is relatively small, please include the files along with the notebook. If you deal with large data, include a subset."
   ]
  },
  {
   "cell_type": "code",
   "execution_count": null,
   "metadata": {},
   "outputs": [],
   "source": []
  },
  {
   "cell_type": "markdown",
   "metadata": {
    "tags": []
   },
   "source": [
    "# Database Creation\n",
    "The below statements \n",
    "1. Establish the connection based on the environment variables loaded from the .env file and opens a cursor\n",
    "2. Create a schema edx under the database specified. \n",
    "3. Create all necessary normalized table in the postgres database in case they do not exist \n",
    "\n",
    "![ERD](imgs/bait580erd.png \"ERD for Our Database\")"
   ]
  },
  {
   "cell_type": "code",
   "execution_count": null,
   "metadata": {},
   "outputs": [],
   "source": [
    "conn = psycopg2.connect(**conString)\n",
    "cur = conn.cursor()\n",
    "\n",
    "cur.execute(\"\"\"CREATE SCHEMA IF NOT EXISTS edx\"\"\")\n",
    "conn.commit()\n",
    "\n",
    "cur.execute(\"\"\"CREATE TABLE IF NOT EXISTS edx.country(\n",
    "            country_code VARCHAR(5),\n",
    "\t\t\tcountry_name VARCHAR(250),\n",
    "\t\t\tincome_group TEXT,\n",
    "\t\t\tregion VARCHAR(250),\n",
    "            PRIMARY KEY(country_code)\n",
    "            )\"\"\")\n",
    "conn.commit()\n",
    "\n",
    "\n",
    "cur.execute(\"\"\"CREATE TABLE IF NOT EXISTS edx.human_capital(\n",
    "\t\t\t\tcountry_code\t\t\t\t\ttext not null,\n",
    "               year\t\t\t\t\t\t\tSMALLINT not null,\n",
    "               edu_pcnt_gdp\t\t\t\t\tdouble precision,\n",
    "               edu_pcnt_bud\t\t\t\t\tdouble precision,\n",
    "               edu_pcnt_ter_bud\t\t\t\tdouble precision,\n",
    "               edu_pcnt_gdp_pstudcapita_ter\tdouble precision,\n",
    "               edu_pcnt_scnd_bud\t\t\t\tdouble precision,\n",
    "               edu_pcnt_gdp_pstudcapita_scnd\tdouble precision,\n",
    "               edu_pcnt_prim_bud\t\t\t\tdouble precision,\n",
    "               edu_pcnt_gdp_pstudcapita_prim\tdouble precision,\n",
    "               hdi\t\t\t\t\t\t\t\tdouble precision,\n",
    "               gdp_us \t\t\t\t\t\t\tdouble precision,\n",
    "               gdp_growth \t\t\t\t\t\tdouble precision,\n",
    "               PRIMARY KEY(country_code, year),\n",
    "                FOREIGN KEY(country_code),\n",
    "                References country(country_code)\n",
    "               )\"\"\")\n",
    "conn.commit()\n",
    "\n",
    "cur.execute(\"\"\"CREATE TABLE IF NOT EXISTS edx.education_indicators(\n",
    "\t\t\tcountry_code \t\t\tTEXT NOT NULL,\n",
    "\t\t\tyear \t\t\t\t\tSMALLINT NOT NULL,\n",
    "\t\t\tqual_edsys \t\t\tdouble precision,\n",
    "\t\t\tqual_mathsci_edsys \tdouble precision,\n",
    "\t\t\tqual_ed \t\t\t\tdouble precision,\n",
    "\t\t\tperc_grad_stem_tert \tdouble precision,\n",
    "\t\t\tperc_grad_nonstem_tert double precision,\n",
    "\t\t\tsch_enr_tert \t\t\tdouble precision,\n",
    "\t\t\tsch_enr_sec `\t\t\tdouble precision,\n",
    "\t\t\tsch_enr_pri `\t\t\tdouble precision,\n",
    "            PRIMARY KEY(country_code, year)\n",
    "\tFOREIGN KEY (country_code) REFERENCES country(country_code))\"\"\")\n",
    "conn.commit()\n",
    "\n",
    "\n",
    "cur.execute(\"\"\"CREATE TABLE IF NOT EXISTS edx.test_scores(\n",
    "\t\t\t\tcountry_code \tTEXT NOT NULL,\n",
    "\t\t\t\tyear \t\t\tSMALLINT NOT NULL,\n",
    "\t\t\t\ttimss_4th \t\tSMALLINT,\n",
    "\t\t\t\ttimss_8th \t\tSMALLINT,\n",
    "\t\t\t\tpisamath \t\tREAL,\n",
    "\t\t\t\tpisasci \t\tSMALLINT,\n",
    "\t\t\t\tpisaread \t\tSMALLINT,\n",
    "                PRIAMRY KEY(country_code,year)\n",
    "\t\t\t\tFOREIGN KEY(country_code) REFERENCES country(country_code)\"\"\")\n",
    "conn.commit()\n",
    "\n",
    "cur.close()\n",
    "conn.close()"
   ]
  },
  {
   "cell_type": "markdown",
   "metadata": {
    "tags": []
   },
   "source": [
    "# Data processing and analysis\n",
    "The core of the notebook is here. Split this section into subsections as required, and explain processing and analysis steps.\n",
    "\n",
    "Selected best practices for organizing and formatting your notebooks are included below. "
   ]
  },
  {
   "cell_type": "markdown",
   "metadata": {},
   "source": [
    "## Adding table of contents\n",
    "\n",
    "Having a table of contents below the title and authors will make your notebook look more professional, and will help users navigate it.\n",
    "\n",
    "The key steps are:\n",
    "1. In terminal, install jupyter_contrib_nbextensions\n",
    "```\n",
    "pip install --user jupyter_contrib_nbextensions\n",
    "jupyter contrib nbextension install --user\n",
    "```\n",
    "\n",
    "2. Then, enable the Table of Contents extension:\n",
    "```\n",
    "jupyter nbextension enable toc2/main\n",
    "```\n",
    "\n",
    "You will see a new icon \"Table of Contents\" added to the row of icons. It will toggle the ToC view. Click the Gear icon on the ToC panel to add a ToC cell to your notebook.\n",
    "\n",
    "See [5.1], [5.2] for more information\n"
   ]
  }
 ],
 "metadata": {
  "kernelspec": {
   "display_name": "Python 3 (ipykernel)",
   "language": "python",
   "name": "python3"
  },
  "language_info": {
   "codemirror_mode": {
    "name": "ipython",
    "version": 3
   },
   "file_extension": ".py",
   "mimetype": "text/x-python",
   "name": "python",
   "nbconvert_exporter": "python",
   "pygments_lexer": "ipython3",
   "version": "3.9.7"
  },
  "toc": {
   "base_numbering": 1,
   "nav_menu": {},
   "number_sections": true,
   "sideBar": true,
   "skip_h1_title": false,
   "title_cell": "Table of Contents",
   "title_sidebar": "Contents",
   "toc_cell": true,
   "toc_position": {
    "height": "calc(100% - 180px)",
    "left": "10px",
    "top": "150px",
    "width": "248.182px"
   },
   "toc_section_display": true,
   "toc_window_display": true
  }
 },
 "nbformat": 4,
 "nbformat_minor": 4
}

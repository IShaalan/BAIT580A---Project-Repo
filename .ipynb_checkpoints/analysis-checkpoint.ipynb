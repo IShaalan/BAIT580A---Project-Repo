{
 "cells": [
  {
   "cell_type": "markdown",
   "metadata": {},
   "source": [
    "## Data Analysis"
   ]
  },
  {
   "cell_type": "code",
   "execution_count": null,
   "metadata": {},
   "outputs": [
    {
     "ename": "",
     "evalue": "",
     "output_type": "error",
     "traceback": [
      "\u001b[1;31mRunning cells with 'Python 3.10.0 ('MBAnPy310')' requires ipykernel package.\n",
      "Run the following command to install 'ipykernel' into the Python environment. \n",
      "Command: 'conda install -n MBAnPy310 ipykernel --update-deps --force-reinstall'"
     ]
    }
   ],
   "source": [
    "import os\n",
    "import dotenv\n",
    "\n",
    "dotenv.load_dotenv()\n",
    "DB_HOST = os.getenv('GP_DB_HOST')\n",
    "DB_PORT = os.getenv('GP_DB_PORT')\n",
    "DB_USER = os.getenv('GP_DB_USER')\n",
    "DB_PASS = os.getenv('GP_DB_PASS')\n",
    "DB_NAME = os.getenv('GP_DB_NAME')\n",
    "\n",
    "DB_HOST = \"groupseven.c7uho3baxiu8.us-west-2.rds.amazonaws.com\"\n",
    "DB_NAME = \"groupseven\"\n",
    "DB_USER = \"seven\"\n",
    "DB_PASS = \"BAIT580SQL\"\n",
    "DB_PORT = \"5432\"\n",
    "\n",
    "conString = {'host':DB_HOST,\n",
    "             'user':DB_USER,\n",
    "             'dbname':DB_NAME,\n",
    "             'password':DB_PASS,\n",
    "             'port':DB_PORT}\n",
    "\n",
    "# Data manipulation\n",
    "import pandas as pd\n",
    "import missingno as msno\n",
    "\n",
    "import numpy as np\n",
    "import psycopg2\n",
    "\n",
    "# Options for pandas\n",
    "pd.options.display.max_columns = 50\n",
    "pd.options.display.max_rows = 30\n",
    "\n",
    "# Visualizations\n",
    "import altair as alt\n",
    "import matplotlib as plt\n",
    "alt.data_transformers.disable_max_rows()  # disable error for big datasets"
   ]
  },
  {
   "cell_type": "markdown",
   "metadata": {},
   "source": [
    "Establishing Connection"
   ]
  },
  {
   "cell_type": "code",
   "execution_count": null,
   "metadata": {},
   "outputs": [],
   "source": [
    "conn = psycopg2.connect(**conString)\n",
    "cur = conn.cursor()"
   ]
  },
  {
   "cell_type": "code",
   "execution_count": null,
   "metadata": {},
   "outputs": [],
   "source": [
    "cur.execute(\"\"\"SELECT * FROM edx.wrld_bnk_indc\"\"\")\n",
    "res = cur.fetchall()\n",
    "\n",
    "df = pd.DataFrame(res)"
   ]
  },
  {
   "cell_type": "code",
   "execution_count": null,
   "metadata": {},
   "outputs": [],
   "source": [
    "df.columns=['country_name','country_code','year','edu_pcnt_scnd_bud','sch_enr_sec','edu_pcnt_prim_bud','edu_pcnt_gdp_pstudcapita_scnd','edu_pcnt_gdp_pstudcapita_prim',\n",
    "             'edu_pcnt_ter_bud','edu_pcnt_bud','sch_enr_pri','edu_pcnt_gdp_pstud_capita_ter','edu_pcnt_gdp']\n",
    "\n",
    "df"
   ]
  },
  {
   "cell_type": "code",
   "execution_count": null,
   "metadata": {},
   "outputs": [],
   "source": [
    "msno.matrix(df)"
   ]
  },
  {
   "cell_type": "code",
   "execution_count": null,
   "metadata": {},
   "outputs": [],
   "source": [
    "import klib"
   ]
  },
  {
   "cell_type": "markdown",
   "metadata": {},
   "source": [
    "Closing Connection"
   ]
  },
  {
   "cell_type": "code",
   "execution_count": null,
   "metadata": {},
   "outputs": [],
   "source": [
    "conn.close()"
   ]
  }
 ],
 "metadata": {
  "interpreter": {
   "hash": "093eab89ae9eef50f6b618021bd6801c29ac2779d3b86c3950776c321a6e7de7"
  },
  "kernelspec": {
   "display_name": "Python 3.9.7 ('MBAN')",
   "language": "python",
   "name": "python3"
  },
  "language_info": {
   "codemirror_mode": {
    "name": "ipython",
    "version": 3
   },
   "file_extension": ".py",
   "mimetype": "text/x-python",
   "name": "python",
   "nbconvert_exporter": "python",
   "pygments_lexer": "ipython3",
   "version": "3.10.0"
  },
  "orig_nbformat": 4
 },
 "nbformat": 4,
 "nbformat_minor": 2
}
